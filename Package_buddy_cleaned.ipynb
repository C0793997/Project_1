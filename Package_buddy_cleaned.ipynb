{
  "cells": [
    {
      "cell_type": "markdown",
      "metadata": {
        "id": "view-in-github",
        "colab_type": "text"
      },
      "source": [
        "<a href=\"https://colab.research.google.com/github/C0793997/Project_1/blob/main/Package_buddy_cleaned.ipynb\" target=\"_parent\"><img src=\"https://colab.research.google.com/assets/colab-badge.svg\" alt=\"Open In Colab\"/></a>"
      ]
    },
    {
      "cell_type": "code",
      "source": [
        "!pip install flair\n",
        "# reference to flair: https://github.com/flairNLP/flair\n",
        "!pip3 install google-cloud-vision\n",
        "!pip install transformers"
      ],
      "metadata": {
        "id": "1Y6mGrqTBF1a"
      },
      "execution_count": null,
      "outputs": []
    },
    {
      "cell_type": "code",
      "source": [
        "from google.colab import drive\n",
        "drive.mount('/content/drive')"
      ],
      "metadata": {
        "colab": {
          "base_uri": "https://localhost:8080/"
        },
        "id": "Vf2y5V46COm4",
        "outputId": "8b3399c7-d175-4617-f527-728029302103"
      },
      "execution_count": null,
      "outputs": [
        {
          "output_type": "stream",
          "name": "stdout",
          "text": [
            "Drive already mounted at /content/drive; to attempt to forcibly remount, call drive.mount(\"/content/drive\", force_remount=True).\n"
          ]
        }
      ]
    },
    {
      "cell_type": "code",
      "execution_count": null,
      "metadata": {
        "id": "akFWiQAx_KnA"
      },
      "outputs": [],
      "source": [
        "from os import listdir\n",
        "from os.path import isfile, join\n",
        "mypath = '/content/drive/MyDrive/package_images/'\n",
        "imagefiles = [mypath+f for f in listdir(mypath) if isfile(join(mypath, f))]"
      ]
    },
    {
      "cell_type": "code",
      "execution_count": null,
      "metadata": {
        "colab": {
          "base_uri": "https://localhost:8080/"
        },
        "id": "Tmmyzmlk_KnB",
        "outputId": "f7bb3a1f-75ae-4399-bd7f-fbdc7f802f77"
      },
      "outputs": [
        {
          "output_type": "execute_result",
          "data": {
            "text/plain": [
              "['/content/drive/MyDrive/package_images/PXL_20220123_224016227.jpg',\n",
              " '/content/drive/MyDrive/package_images/PXL_20220130_200001890.jpg',\n",
              " '/content/drive/MyDrive/package_images/PXL_20220123_223915141.jpg',\n",
              " '/content/drive/MyDrive/package_images/PXL_20220123_232132231.jpg',\n",
              " '/content/drive/MyDrive/package_images/PXL_20220123_223921509.jpg',\n",
              " '/content/drive/MyDrive/package_images/PXL_20220123_224133262.jpg',\n",
              " '/content/drive/MyDrive/package_images/PXL_20220130_200024583.jpg',\n",
              " '/content/drive/MyDrive/package_images/PXL_20220123_223909177.jpg',\n",
              " '/content/drive/MyDrive/package_images/PXL_20220123_224047272.jpg',\n",
              " '/content/drive/MyDrive/package_images/PXL_20220130_200015466.jpg',\n",
              " '/content/drive/MyDrive/package_images/PXL_20220123_224036749.jpg',\n",
              " '/content/drive/MyDrive/package_images/PXL_20220123_224123596.jpg',\n",
              " '/content/drive/MyDrive/package_images/PXL_20220130_200138506.jpg',\n",
              " '/content/drive/MyDrive/package_images/PXL_20220123_224027103.jpg',\n",
              " '/content/drive/MyDrive/package_images/PXL_20220123_224059663.jpg',\n",
              " '/content/drive/MyDrive/package_images/PXL_20220123_223928996.jpg',\n",
              " '/content/drive/MyDrive/package_images/PXL_20220123_180145549.jpg',\n",
              " '/content/drive/MyDrive/package_images/PXL_20220123_223615912.jpg',\n",
              " '/content/drive/MyDrive/package_images/PXL_20220123_223715132.jpg',\n",
              " '/content/drive/MyDrive/package_images/PXL_20220123_180532532.jpg',\n",
              " '/content/drive/MyDrive/package_images/PXL_20220123_223902233.jpg',\n",
              " '/content/drive/MyDrive/package_images/PXL_20220123_223851515.jpg',\n",
              " '/content/drive/MyDrive/package_images/PXL_20220123_210915621.jpg',\n",
              " '/content/drive/MyDrive/package_images/PXL_20220123_210911589.jpg',\n",
              " '/content/drive/MyDrive/package_images/PXL_20220123_223937031.jpg',\n",
              " '/content/drive/MyDrive/package_images/PXL_20220123_223458082.jpg',\n",
              " '/content/drive/MyDrive/package_images/PXL_20220123_223947415.jpg',\n",
              " '/content/drive/MyDrive/package_images/PXL_20220123_180424784.jpg',\n",
              " '/content/drive/MyDrive/package_images/PXL_20220123_223553308.jpg',\n",
              " '/content/drive/MyDrive/package_images/PXL_20220123_223601597.jpg',\n",
              " '/content/drive/MyDrive/package_images/PXL_20220123_223540150.jpg',\n",
              " '/content/drive/MyDrive/package_images/PXL_20220123_223729461.jpg',\n",
              " '/content/drive/MyDrive/package_images/PXL_20220123_180350738.jpg',\n",
              " '/content/drive/MyDrive/package_images/PXL_20220123_223545929.jpg',\n",
              " '/content/drive/MyDrive/package_images/PXL_20220123_223531133.jpg',\n",
              " '/content/drive/MyDrive/package_images/PXL_20220123_180156576.jpg',\n",
              " '/content/drive/MyDrive/package_images/PXL_20220123_223525259.jpg',\n",
              " '/content/drive/MyDrive/package_images/PXL_20220123_210834660.jpg',\n",
              " '/content/drive/MyDrive/package_images/PXL_20220123_223608031.jpg',\n",
              " '/content/drive/MyDrive/package_images/PXL_20220123_223707703.jpg',\n",
              " '/content/drive/MyDrive/package_images/PXL_20220123_180447508.jpg',\n",
              " '/content/drive/MyDrive/package_images/PXL_20220123_223447238.jpg',\n",
              " '/content/drive/MyDrive/package_images/PXL_20220123_223832014.jpg',\n",
              " '/content/drive/MyDrive/package_images/PXL_20220123_180202895.jpg',\n",
              " '/content/drive/MyDrive/package_images/PXL_20220123_223440764.jpg',\n",
              " '/content/drive/MyDrive/package_images/PXL_20220123_180401515.jpg',\n",
              " '/content/drive/MyDrive/package_images/PXL_20220123_180215450.jpg',\n",
              " '/content/drive/MyDrive/package_images/PXL_20220123_223658929.jpg',\n",
              " '/content/drive/MyDrive/package_images/PXL_20220123_223511891.jpg',\n",
              " '/content/drive/MyDrive/package_images/PXL_20220123_180337729.jpg',\n",
              " '/content/drive/MyDrive/package_images/PXL_20220123_223824784.jpg',\n",
              " '/content/drive/MyDrive/package_images/PXL_20220123_223738890.jpg',\n",
              " '/content/drive/MyDrive/package_images/PXL_20220123_180040978.jpg',\n",
              " '/content/drive/MyDrive/package_images/PXL_20220123_223843282.jpg',\n",
              " '/content/drive/MyDrive/package_images/PXL_20220123_223624821.jpg',\n",
              " '/content/drive/MyDrive/package_images/PXL_20220123_180457576.jpg',\n",
              " '/content/drive/MyDrive/package_images/PXL_20220123_223639333.jpg',\n",
              " '/content/drive/MyDrive/package_images/PXL_20220123_223818788.jpg',\n",
              " '/content/drive/MyDrive/package_images/PXL_20220123_223647586.jpg',\n",
              " '/content/drive/MyDrive/package_images/PXL_20220123_180048635.jpg',\n",
              " '/content/drive/MyDrive/package_images/PXL_20220123_223506224.jpg',\n",
              " '/content/drive/MyDrive/package_images/PXL_20220123_223722163.jpg',\n",
              " '/content/drive/MyDrive/package_images/PXL_20220123_210920225.jpg',\n",
              " '/content/drive/MyDrive/package_images/PXL_20220123_223758860.jpg',\n",
              " '/content/drive/MyDrive/package_images/PXL_20220123_180016992.jpg',\n",
              " '/content/drive/MyDrive/package_images/PXL_20220123_180052937.jpg',\n",
              " '/content/drive/MyDrive/package_images/PXL_20220123_180022955.jpg',\n",
              " '/content/drive/MyDrive/package_images/PXL_20220123_175958583.jpg',\n",
              " '/content/drive/MyDrive/package_images/PXL_20220123_180319633.jpg',\n",
              " '/content/drive/MyDrive/package_images/PXL_20220123_175953377.jpg',\n",
              " '/content/drive/MyDrive/package_images/PXL_20220123_175934064.jpg',\n",
              " '/content/drive/MyDrive/package_images/PXL_20220123_180027150.jpg',\n",
              " '/content/drive/MyDrive/package_images/PXL_20220123_180112462.jpg',\n",
              " '/content/drive/MyDrive/package_images/PXL_20220123_180120953.jpg',\n",
              " '/content/drive/MyDrive/package_images/PXL_20220123_180103078.jpg',\n",
              " '/content/drive/MyDrive/package_images/PXL_20220123_180032032.jpg',\n",
              " '/content/drive/MyDrive/package_images/PXL_20220123_180109558.jpg',\n",
              " '/content/drive/MyDrive/package_images/PXL_20220123_180257272.jpg',\n",
              " '/content/drive/MyDrive/package_images/PXL_20220123_180002951.jpg',\n",
              " '/content/drive/MyDrive/package_images/PXL_20220123_175928067.jpg',\n",
              " '/content/drive/MyDrive/package_images/PXL_20220123_180035645.jpg',\n",
              " '/content/drive/MyDrive/package_images/PXL_20220123_180235376.jpg',\n",
              " '/content/drive/MyDrive/package_images/PXL_20220122_215109521.jpg']"
            ]
          },
          "metadata": {},
          "execution_count": 3
        }
      ],
      "source": [
        "imagefiles = imagefiles[:-1]\n",
        "imagefiles"
      ]
    },
    {
      "cell_type": "code",
      "execution_count": null,
      "metadata": {
        "id": "SjyIHN8L_KnD"
      },
      "outputs": [],
      "source": [
        "import google"
      ]
    },
    {
      "cell_type": "code",
      "execution_count": null,
      "metadata": {
        "id": "l6Py7jgZ_KnH"
      },
      "outputs": [],
      "source": [
        "import os\n",
        "os.environ[\"GOOGLE_APPLICATION_CREDENTIALS\"]=\"/content/drive/MyDrive/package_images/package-buddy-capstone-d9edc5dfd127.json\""
      ]
    },
    {
      "cell_type": "code",
      "source": [
        ""
      ],
      "metadata": {
        "id": "ivP_mJDyDE3_"
      },
      "execution_count": null,
      "outputs": []
    },
    {
      "cell_type": "code",
      "execution_count": null,
      "metadata": {
        "id": "vUOdZYlo_KnI"
      },
      "outputs": [],
      "source": [
        "def detect_text(path):\n",
        "    \"\"\"Detects text in the file.\"\"\"\n",
        "    from google.cloud import vision\n",
        "    import io\n",
        "    client = vision.ImageAnnotatorClient()\n",
        "\n",
        "    with io.open(path, 'rb') as image_file:\n",
        "        content = image_file.read()\n",
        "\n",
        "    image = vision.Image(content=content)\n",
        "\n",
        "    response = client.text_detection(image=image)\n",
        "    texts = response.text_annotations\n",
        "    #print('Texts:')\n",
        "\n",
        "    for text in texts:\n",
        "         #print('\\n\"{}\"'.format(text.description))\n",
        "\n",
        "         vertices = (['({},{})'.format(vertex.x, vertex.y)\n",
        "                     for vertex in text.bounding_poly.vertices])\n",
        "\n",
        "         #print('bounds: {}'.format(','.join(vertices)))\n",
        "    \n",
        "    return texts\n",
        "\n",
        "    if response.error.message:\n",
        "        raise Exception(\n",
        "            '{}\\nFor more info on error messages, check: '\n",
        "            'https://cloud.google.com/apis/design/errors'.format(\n",
        "                response.error.message))"
      ]
    },
    {
      "cell_type": "code",
      "execution_count": null,
      "metadata": {
        "id": "FMsKdRHN_Knh"
      },
      "outputs": [],
      "source": [
        "output_list = [detect_text(i) for i in imagefiles]"
      ]
    },
    {
      "cell_type": "code",
      "execution_count": null,
      "metadata": {
        "id": "arFcdfxy_Knh"
      },
      "outputs": [],
      "source": [
        "output_list = [str(i) for i in output_list]"
      ]
    },
    {
      "cell_type": "code",
      "execution_count": null,
      "metadata": {
        "id": "a1YqsLhb_Kni"
      },
      "outputs": [],
      "source": [
        "import re\n",
        "def clear_text(text: str) -> str:\n",
        "    # Remove emojis\n",
        "    #text = text.encode('ascii', errors='ignore').decode('ascii')\n",
        "\n",
        "    #Remove the 'RT's\n",
        "    #text = re.sub('RT\\s', '', text)\n",
        "\n",
        "    # Remove the links\n",
        "    #text = re.sub('http\\S*|www\\S*', '', text)\n",
        "    \n",
        "\n",
        "    # Remove the breakline code\n",
        "    text = text.replace('\\\\n', ' ')\n",
        "    \n",
        "\n",
        "    # Remove the breakline code\n",
        "    #text = re.sub('\\\\ ', '', text)\n",
        "\n",
        "    # Remove the breakline code\n",
        "    #text = re.sub(' \\\\ n', '', text)\n",
        "\n",
        "    # Remove usernames \n",
        "    #text = re.sub('\\@\\S*', '', text)\n",
        "\n",
        "    # Remove hashtags\n",
        "    # text = re.sub('#\\S*', '', text)\n",
        "\n",
        "    # Remove numbers\n",
        "    #text = re.sub('[0-9]+', '', text)\n",
        "\n",
        "    # Split before a word\n",
        "    text = text.split(\"bounding\")[0]\n",
        "    text = text.split(\"locale\")[1]\n",
        "    \n",
        "    \n",
        "    \n",
        "\n",
        "    # Remove punctuation and extra blank spaces\n",
        "    text = re.sub('\\W+', ' ', text)\n",
        "    \n",
        "\n",
        "    \n",
        "    text = re.sub(\"[0-9][A-Z][a-z]+\", \"\", text)\n",
        "    \n",
        "    # Remove stop words and words with 2 or fewer letters\n",
        "    #text = [word for word in text.split() if \n",
        "    #        (len(word) >= 3) and (word not in stop_words)]\n",
        "\n",
        "    #text = ' '.join(text).lower()\n",
        "\n",
        "    return text"
      ]
    },
    {
      "cell_type": "code",
      "execution_count": null,
      "metadata": {
        "colab": {
          "base_uri": "https://localhost:8080/",
          "height": 174
        },
        "id": "yncKiDyZ_Knj",
        "outputId": "8b06687f-f05f-46fd-edd7-9c299d20b27d"
      },
      "outputs": [
        {
          "output_type": "execute_result",
          "data": {
            "application/vnd.google.colaboratory.intrinsic+json": {
              "type": "string"
            },
            "text/plain": [
              "'[locale: \"en\"\\ndescription: \"EY\\\\\\'S\\\\nSYS\\\\n6174\\\\nJ.1D\\\\nYYZ1 2.4 Lbs\\\\n01/23\\\\nDT03\\\\nShelly-Ann Rampersad\\\\nS605-112 George Street\\\\nM5A 2M5 Toronto , Ontario Canada\\\\nTBC360486977009\\\\nDT03\\\\nCYCLE 1\\\\nCLE2\\\\nTHM5\\\\nYHM5\\\\nC ART\\\\nMxj7Qq3B5\\\\n1/811\\\\nMxj7Qq3B5\\\\n\"\\nbounding_poly {\\n  vertices {\\n    x: 268\\n    y: 252\\n  }\\n  vertices {\\n    x: 2620\\n    y: 252\\n  }\\n  vertices {\\n    x: 2620\\n    y: 3898\\n  }\\n  vertices {\\n    x: 268\\n    y: 3898\\n  }\\n}\\n, description: \"EY\\\\\\'S\"\\nbounding_poly {\\n  vertices {\\n    x: 268\\n    y: 613\\n  }\\n  vertices {\\n    x: 368\\n    y: 565\\n  }\\n  vertices {\\n    x: 395\\n    y: 621\\n  }\\n  vertices {\\n    x: 295\\n    y: 669\\n  }\\n}\\n, description: \"SYS\"\\nbounding_poly {\\n  vertices {\\n    x: 284\\n    y: 668\\n  }\\n  vertices {\\n    x: 409\\n    y: 602\\n  }\\n  vertices {\\n    x: 435\\n    y: 653\\n  }\\n  vertices {\\n    x: 311\\n    y: 718\\n  }\\n}\\n, description: \"6174\"\\nbounding_poly {\\n  vertices {\\n    x: 2578\\n    y: 438\\n  }\\n  vertices {\\n    x: 2379\\n    y: 323\\n  }\\n  vertices {\\n    x: 2419\\n    y: 253\\n  }\\n  vertices {\\n    x: 2618\\n    y: 368\\n  }\\n}\\n, description: \"J.1D\"\\nbounding_poly {\\n  vertices {\\n    x: 2523\\n    y: 569\\n  }\\n  vertices {\\n    x: 2242\\n    y: 445\\n  }\\n  vertices {\\n    x: 2295\\n    y: 326\\n  }\\n  vertices {\\n    x: 2576\\n    y: 449\\n  }\\n}\\n, description: \"YYZ1\"\\nbounding_poly {\\n  vertices {\\n    x: 686\\n    y: 898\\n  }\\n  vertices {\\n    x: 903\\n    y: 930\\n  }\\n  vertices {\\n    x: 889\\n    y: 1021\\n  }\\n  vertices {\\n    x: 672\\n    y: 989\\n  }\\n}\\n, description: \"2.4\"\\nbounding_poly {\\n  vertices {\\n    x: 966\\n    y: 941\\n  }\\n  vertices {\\n    x: 1122\\n    y: 964\\n  }\\n  vertices {\\n    x: 1108\\n    y: 1061\\n  }\\n  vertices {\\n    x: 952\\n    y: 1038\\n  }\\n}\\n, description: \"Lbs\"\\nbounding_poly {\\n  vertices {\\n    x: 1156\\n    y: 968\\n  }\\n  vertices {\\n    x: 1301\\n    y: 990\\n  }\\n  vertices {\\n    x: 1288\\n    y: 1078\\n  }\\n  vertices {\\n    x: 1143\\n    y: 1056\\n  }\\n}\\n, description: \"01/23\"\\nbounding_poly {\\n  vertices {\\n    x: 1492\\n    y: 994\\n  }\\n  vertices {\\n    x: 1722\\n    y: 1008\\n  }\\n  vertices {\\n    x: 1717\\n    y: 1089\\n  }\\n  vertices {\\n    x: 1487\\n    y: 1075\\n  }\\n}\\n, description: \"DT03\"\\nbounding_poly {\\n  vertices {\\n    x: 1978\\n    y: 1018\\n  }\\n  vertices {\\n    x: 2189\\n    y: 1019\\n  }\\n  vertices {\\n    x: 2189\\n    y: 1094\\n  }\\n  vertices {\\n    x: 1978\\n    y: 1093\\n  }\\n}\\n, description: \"Shelly-Ann\"\\nbounding_poly {\\n  vertices {\\n    x: 684\\n    y: 1164\\n  }\\n  vertices {\\n    x: 1015\\n    y: 1172\\n  }\\n  vertices {\\n    x: 1013\\n    y: 1239\\n  }\\n  vertices {\\n    x: 682\\n    y: 1231\\n  }\\n}\\n, description: \"Rampersad\"\\nbounding_poly {\\n  vertices {\\n    x: 1044\\n    y: 1180\\n  }\\n  vertices {\\n    x: 1346\\n    y: 1187\\n  }\\n  vertices {\\n    x: 1345\\n    y: 1247\\n  }\\n  vertices {\\n    x: 1043\\n    y: 1240\\n  }\\n}\\n, description: \"S605-112\"\\nbounding_poly {\\n  vertices {\\n    x: 686\\n    y: 1242\\n  }\\n  vertices {\\n    x: 1047\\n    y: 1249\\n  }\\n  vertices {\\n    x: 1046\\n    y: 1319\\n  }\\n  vertices {\\n    x: 685\\n    y: 1312\\n  }\\n}\\n, description: \"George\"\\nbounding_poly {\\n  vertices {\\n    x: 1080\\n    y: 1250\\n  }\\n  vertices {\\n    x: 1318\\n    y: 1254\\n  }\\n  vertices {\\n    x: 1317\\n    y: 1332\\n  }\\n  vertices {\\n    x: 1079\\n    y: 1328\\n  }\\n}\\n, description: \"Street\"\\nbounding_poly {\\n  vertices {\\n    x: 1352\\n    y: 1256\\n  }\\n  vertices {\\n    x: 1553\\n    y: 1260\\n  }\\n  vertices {\\n    x: 1552\\n    y: 1328\\n  }\\n  vertices {\\n    x: 1351\\n    y: 1324\\n  }\\n}\\n, description: \"M5A\"\\nbounding_poly {\\n  vertices {\\n    x: 680\\n    y: 1376\\n  }\\n  vertices {\\n    x: 791\\n    y: 1378\\n  }\\n  vertices {\\n    x: 790\\n    y: 1427\\n  }\\n  vertices {\\n    x: 679\\n    y: 1425\\n  }\\n}\\n, description: \"2M5\"\\nbounding_poly {\\n  vertices {\\n    x: 818\\n    y: 1375\\n  }\\n  vertices {\\n    x: 929\\n    y: 1377\\n  }\\n  vertices {\\n    x: 928\\n    y: 1428\\n  }\\n  vertices {\\n    x: 817\\n    y: 1426\\n  }\\n}\\n, description: \"Toronto\"\\nbounding_poly {\\n  vertices {\\n    x: 954\\n    y: 1378\\n  }\\n  vertices {\\n    x: 1158\\n    y: 1382\\n  }\\n  vertices {\\n    x: 1157\\n    y: 1436\\n  }\\n  vertices {\\n    x: 953\\n    y: 1432\\n  }\\n}\\n, description: \",\"\\nbounding_poly {\\n  vertices {\\n    x: 1177\\n    y: 1375\\n  }\\n  vertices {\\n    x: 1221\\n    y: 1376\\n  }\\n  vertices {\\n    x: 1219\\n    y: 1445\\n  }\\n  vertices {\\n    x: 1175\\n    y: 1444\\n  }\\n}\\n, description: \"Ontario\"\\nbounding_poly {\\n  vertices {\\n    x: 1226\\n    y: 1384\\n  }\\n  vertices {\\n    x: 1418\\n    y: 1388\\n  }\\n  vertices {\\n    x: 1417\\n    y: 1441\\n  }\\n  vertices {\\n    x: 1225\\n    y: 1437\\n  }\\n}\\n, description: \"Canada\"\\nbounding_poly {\\n  vertices {\\n    x: 1446\\n    y: 1389\\n  }\\n  vertices {\\n    x: 1642\\n    y: 1393\\n  }\\n  vertices {\\n    x: 1641\\n    y: 1450\\n  }\\n  vertices {\\n    x: 1445\\n    y: 1446\\n  }\\n}\\n, description: \"TBC360486977009\"\\nbounding_poly {\\n  vertices {\\n    x: 1004\\n    y: 2468\\n  }\\n  vertices {\\n    x: 1699\\n    y: 2482\\n  }\\n  vertices {\\n    x: 1697\\n    y: 2558\\n  }\\n  vertices {\\n    x: 1002\\n    y: 2544\\n  }\\n}\\n, description: \"DT03\"\\nbounding_poly {\\n  vertices {\\n    x: 960\\n    y: 2620\\n  }\\n  vertices {\\n    x: 1271\\n    y: 2626\\n  }\\n  vertices {\\n    x: 1269\\n    y: 2741\\n  }\\n  vertices {\\n    x: 958\\n    y: 2735\\n  }\\n}\\n, description: \"CYCLE\"\\nbounding_poly {\\n  vertices {\\n    x: 1952\\n    y: 2625\\n  }\\n  vertices {\\n    x: 2303\\n    y: 2632\\n  }\\n  vertices {\\n    x: 2300\\n    y: 2768\\n  }\\n  vertices {\\n    x: 1949\\n    y: 2761\\n  }\\n}\\n, description: \"1\"\\nbounding_poly {\\n  vertices {\\n    x: 2376\\n    y: 2634\\n  }\\n  vertices {\\n    x: 2439\\n    y: 2635\\n  }\\n  vertices {\\n    x: 2436\\n    y: 2770\\n  }\\n  vertices {\\n    x: 2373\\n    y: 2769\\n  }\\n}\\n, description: \"CLE2\"\\nbounding_poly {\\n  vertices {\\n    x: 622\\n    y: 3634\\n  }\\n  vertices {\\n    x: 880\\n    y: 3645\\n  }\\n  vertices {\\n    x: 875\\n    y: 3772\\n  }\\n  vertices {\\n    x: 617\\n    y: 3761\\n  }\\n}\\n, description: \"THM5\"\\nbounding_poly {\\n  vertices {\\n    x: 552\\n    y: 3711\\n  }\\n  vertices {\\n    x: 891\\n    y: 3763\\n  }\\n  vertices {\\n    x: 870\\n    y: 3897\\n  }\\n  vertices {\\n    x: 531\\n    y: 3845\\n  }\\n}\\n, description: \"YHM5\"\\nbounding_poly {\\n  vertices {\\n    x: 1156\\n    y: 3640\\n  }\\n  vertices {\\n    x: 1451\\n    y: 3638\\n  }\\n  vertices {\\n    x: 1452\\n    y: 3749\\n  }\\n  vertices {\\n    x: 1157\\n    y: 3751\\n  }\\n}\\n, description: \"C\"\\nbounding_poly {\\n  vertices {\\n    x: 1202\\n    y: 3754\\n  }\\n  vertices {\\n    x: 1279\\n    y: 3753\\n  }\\n  vertices {\\n    x: 1281\\n    y: 3880\\n  }\\n  vertices {\\n    x: 1204\\n    y: 3881\\n  }\\n}\\n, description: \"ART\"\\nbounding_poly {\\n  vertices {\\n    x: 1281\\n    y: 3753\\n  }\\n  vertices {\\n    x: 1407\\n    y: 3751\\n  }\\n  vertices {\\n    x: 1409\\n    y: 3879\\n  }\\n  vertices {\\n    x: 1283\\n    y: 3881\\n  }\\n}\\n, description: \"Mxj7Qq3B5\"\\nbounding_poly {\\n  vertices {\\n    x: 516\\n    y: 3481\\n  }\\n  vertices {\\n    x: 520\\n    y: 3227\\n  }\\n  vertices {\\n    x: 565\\n    y: 3228\\n  }\\n  vertices {\\n    x: 561\\n    y: 3482\\n  }\\n}\\n, description: \"1/811\"\\nbounding_poly {\\n  vertices {\\n    x: 560\\n    y: 3438\\n  }\\n  vertices {\\n    x: 567\\n    y: 3287\\n  }\\n  vertices {\\n    x: 622\\n    y: 3290\\n  }\\n  vertices {\\n    x: 615\\n    y: 3440\\n  }\\n}\\n, description: \"Mxj7Qq3B5\"\\nbounding_poly {\\n  vertices {\\n    x: 2564\\n    y: 3532\\n  }\\n  vertices {\\n    x: 2566\\n    y: 3285\\n  }\\n  vertices {\\n    x: 2620\\n    y: 3285\\n  }\\n  vertices {\\n    x: 2618\\n    y: 3532\\n  }\\n}\\n]'"
            ]
          },
          "metadata": {},
          "execution_count": 10
        }
      ],
      "source": [
        "output_list[10]"
      ]
    },
    {
      "cell_type": "code",
      "execution_count": null,
      "metadata": {
        "colab": {
          "base_uri": "https://localhost:8080/",
          "height": 53
        },
        "id": "yvGQYaA8_Knj",
        "outputId": "67104cb1-fcd8-43be-8740-cbfa9e6d76ab"
      },
      "outputs": [
        {
          "output_type": "execute_result",
          "data": {
            "application/vnd.google.colaboratory.intrinsic+json": {
              "type": "string"
            },
            "text/plain": [
              "' en description EY S SYS 6174 J 1D YYZ1 2 4 Lbs 01 23 DT03 Shelly Ann Rampersad S605 112 George Street M5A 2M5 Toronto Ontario Canada TBC360486977009 DT03 CYCLE 1 CLE2 THM5 YHM5 C ART Mxj3B5 1 811 Mxj3B5 '"
            ]
          },
          "metadata": {},
          "execution_count": 11
        }
      ],
      "source": [
        "list1 = []\n",
        "\n",
        "for i in output_list:\n",
        "    x = clear_text(i)\n",
        "    list1.append(x)\n",
        "#print(list1)\n",
        "list1[10]"
      ]
    },
    {
      "cell_type": "code",
      "source": [
        "list1[10][48]"
      ],
      "metadata": {
        "colab": {
          "base_uri": "https://localhost:8080/",
          "height": 35
        },
        "id": "k-XoLsf3fuDS",
        "outputId": "ca89d0f9-3157-4431-f54e-cc3a1916a4a5"
      },
      "execution_count": null,
      "outputs": [
        {
          "output_type": "execute_result",
          "data": {
            "application/vnd.google.colaboratory.intrinsic+json": {
              "type": "string"
            },
            "text/plain": [
              "'0'"
            ]
          },
          "metadata": {},
          "execution_count": 52
        }
      ]
    },
    {
      "cell_type": "code",
      "source": [
        "len(output_list)"
      ],
      "metadata": {
        "colab": {
          "base_uri": "https://localhost:8080/"
        },
        "id": "NzCw7KJyGMmU",
        "outputId": "afd220c3-f70d-4c2b-cf57-46906eba4205"
      },
      "execution_count": null,
      "outputs": [
        {
          "output_type": "execute_result",
          "data": {
            "text/plain": [
              "83"
            ]
          },
          "metadata": {},
          "execution_count": 12
        }
      ]
    },
    {
      "cell_type": "code",
      "execution_count": null,
      "metadata": {
        "colab": {
          "base_uri": "https://localhost:8080/"
        },
        "id": "lYD9v_ho_Knk",
        "outputId": "9c528a1b-0b33-4ecd-ffa2-1be845839aac"
      },
      "outputs": [
        {
          "output_type": "execute_result",
          "data": {
            "text/plain": [
              "83"
            ]
          },
          "metadata": {},
          "execution_count": 13
        }
      ],
      "source": [
        "len(list1)"
      ]
    },
    {
      "cell_type": "code",
      "execution_count": null,
      "metadata": {
        "id": "8SJpDyEr_Knk"
      },
      "outputs": [],
      "source": [
        "# from transformers import AutoModelForTokenClassification, AutoTokenizer\n",
        "# import torch\n",
        "\n",
        "# model = AutoModelForTokenClassification.from_pretrained(\"dbmdz/bert-large-cased-finetuned-conll03-english\")\n",
        "# tokenizer = AutoTokenizer.from_pretrained(\"bert-base-cased\")\n",
        "\n",
        "# label_list = [\n",
        "#     \"O\",       # Outside of a named entity\n",
        "#     \"B-MISC\",  # Beginning of a miscellaneous entity right after another miscellaneous entity\n",
        "#     \"I-MISC\",  # Miscellaneous entity\n",
        "#     \"B-PER\",   # Beginning of a person's name right after another person's name\n",
        "#     \"I-PER\",   # Person's name\n",
        "#     \"B-ORG\",   # Beginning of an organisation right after another organisation\n",
        "#     \"I-ORG\",   # Organisation\n",
        "#     \"B-LOC\",   # Beginning of a location right after another location\n",
        "#     \"I-LOC\"    # Location\n",
        "# ]\n",
        "\n",
        "# sequence = list1[0]\n",
        "\n",
        "# # Bit of a hack to get the tokens with the special tokens\n",
        "# tokens = tokenizer.tokenize(tokenizer.decode(tokenizer.encode(sequence)))\n",
        "# inputs = tokenizer.encode(sequence, return_tensors=\"pt\")\n",
        "\n",
        "# outputs = model(inputs)[0]\n",
        "# predictions = torch.argmax(outputs, dim=2)\n",
        "\n",
        "# print([(token, label_list[prediction]) for token, prediction in zip(tokens, predictions[0].tolist())])"
      ]
    },
    {
      "cell_type": "code",
      "source": [
        "# from transformers import AutoModelForTokenClassification, AutoTokenizer\n",
        "# import torch\n",
        "\n",
        "# model = AutoModelForTokenClassification.from_pretrained(\"dbmdz/bert-large-cased-finetuned-conll03-english\")\n",
        "# tokenizer = AutoTokenizer.from_pretrained(\"bert-base-cased\")\n",
        "\n",
        "# label_list = [\n",
        "#     \"O\",       # Outside of a named entity\n",
        "#     \"B-MISC\",  # Beginning of a miscellaneous entity right after another miscellaneous entity\n",
        "#     \"I-MISC\",  # Miscellaneous entity\n",
        "#     \"B-PER\",   # Beginning of a person's name right after another person's name\n",
        "#     \"I-PER\",   # Person's name\n",
        "#     \"B-ORG\",   # Beginning of an organisation right after another organisation\n",
        "#     \"I-ORG\",   # Organisation\n",
        "#     \"B-LOC\",   # Beginning of a location right after another location\n",
        "#     \"I-LOC\"    # Location\n",
        "# ]\n",
        "\n",
        "# sequence = list1[0]\n",
        "\n",
        "# # Bit of a hack to get the tokens with the special tokens\n",
        "# tokens = tokenizer.tokenize(tokenizer.decode(tokenizer.encode(sequence)))\n",
        "# inputs = tokenizer.encode(sequence, return_tensors=\"pt\")\n",
        "\n",
        "# outputs = model(inputs)[0]\n",
        "# predictions = torch.argmax(outputs, dim=2)\n",
        "\n",
        "# print([(token, label_list[prediction]) for token, prediction in zip(tokens, predictions[0].tolist())])"
      ],
      "metadata": {
        "id": "F9UVZO8KJN3Q"
      },
      "execution_count": null,
      "outputs": []
    },
    {
      "cell_type": "code",
      "source": [
        "# from flair.data import Sentence\n",
        "# from flair.models import SequenceTagger\n",
        "\n",
        "# # make a sentence\n",
        "# sentence = []\n",
        "# for i in list1:\n",
        "#     x = Sentence(i)\n",
        "#     sentence.append(x)\n",
        "\n",
        "\n",
        "\n",
        "# # load the NER tagger\n",
        "# tagger = SequenceTagger.load('ner')\n",
        "\n",
        "# # run NER over sentence\n",
        "# tagger.predict(sentence)"
      ],
      "metadata": {
        "id": "31BlKwG9KFhl"
      },
      "execution_count": null,
      "outputs": []
    },
    {
      "cell_type": "code",
      "source": [
        "# sentence"
      ],
      "metadata": {
        "id": "--xU2HrOHm0e"
      },
      "execution_count": null,
      "outputs": []
    },
    {
      "cell_type": "code",
      "source": [
        "# print(sentence)\n",
        "# print('The following NER tags are found:')\n",
        "\n",
        "# # iterate over entities and print\n",
        "# for entity in Sentence.get_spans('ner'):\n",
        "#     print(entity)"
      ],
      "metadata": {
        "id": "q5GTu7RXKY1o"
      },
      "execution_count": null,
      "outputs": []
    },
    {
      "cell_type": "code",
      "source": [
        "# !pip install spacy"
      ],
      "metadata": {
        "id": "UGCiMcC3R0xQ"
      },
      "execution_count": null,
      "outputs": []
    },
    {
      "cell_type": "code",
      "source": [
        "# import spacy\n",
        "# from spacy.tokens import DocBin\n",
        "# import pandas as pd\n",
        "# import re\n",
        "# pd.set_option('display.max_colwidth', -1)\n",
        "\n",
        "# def massage_data(address):\n",
        "#     '''Pre process address string to remove new line characters, add comma punctuations etc.'''\n",
        "#     cleansed_address1=re.sub(r'(,)(?!\\s)',', ',address)\n",
        "#     cleansed_address2=re.sub(r'(\\\\n)',', ',cleansed_address1)\n",
        "#     cleansed_address3=re.sub(r'(?!\\s)(-)(?!\\s)',' - ',cleansed_address2)\n",
        "#     cleansed_address=re.sub(r'\\.','',cleansed_address3)\n",
        "#     return cleansed_address\n",
        "\n",
        "# def get_address_span(address=None,address_component=None,label=None):\n",
        "#     '''Search for specified address component and get the span.\n",
        "#     Eg: get_address_span(address=\"221 B, Baker Street, London\",address_component=\"221\",label=\"BUILDING_NO\") would return (0,2,\"BUILDING_NO\")'''\n",
        "\n",
        "#     if pd.isna(address_component) or str(address_component)=='nan':\n",
        "#         pass\n",
        "#     else:\n",
        "#         address_component1=re.sub('\\.','',address_component)\n",
        "#         address_component2=re.sub(r'(?!\\s)(-)(?!\\s)',' - ',address_component1)\n",
        "#         span=re.search('\\\\b(?:'+address_component2+')\\\\b',address)\n",
        "#         #print(span)\n",
        "#         return (span.start(),span.end(),label)\n",
        "\n",
        "# def extend_list(entity_list,entity):\n",
        "#     if pd.isna(entity):\n",
        "#         return entity_list\n",
        "#     else:\n",
        "#         entity_list.append(entity)\n",
        "#         return entity_list\n",
        "\n",
        "# def create_entity_spans(df,tag_list):\n",
        "#     '''Create entity spans for training/test datasets'''\n",
        "#     df['Address']=df['Address'].apply(lambda x: massage_data(x))\n",
        "#     df[\"BuildingTag\"]=df.apply(lambda row:get_address_span(address=row['Address'],address_component=row['Building_Name'],label='BUILDING_NAME'),axis=1)\n",
        "#     df[\"BuildingNoTag\"]=df.apply(lambda row:get_address_span(address=row['Address'],address_component=row['Building_Number'],label='BUILDING_NO'),axis=1)\n",
        "#     df[\"RecipientTag\"]=df.apply(lambda row:get_address_span(address=row['Address'],address_component=row['Recipient'],label='RECIPIENT'),axis=1)\n",
        "#     df[\"StreetNameTag\"]=df.apply(lambda row:get_address_span(address=row['Address'],address_component=row['Street_Name'],label='STREET_NAME'),axis=1)\n",
        "#     df[\"ZipCodeTag\"]=df.apply(lambda row:get_address_span(address=row['Address'],address_component=row['Zip_Code'],label='ZIP_CODE'),axis=1)\n",
        "#     df[\"CityTag\"]=df.apply(lambda row:get_address_span(address=row['Address'],address_component=row['City'],label='CITY'),axis=1)\n",
        "#     df[\"CountryTag\"]=df.apply(lambda row:get_address_span(address=row['Address'],address_component=row['Country'],label='COUNTRY'),axis=1)\n",
        "#     df[\"StateTag\"]=df.apply(lambda row:get_address_span(address=row['Address'],address_component=row['State'],label='STATE'),axis=1)\n",
        "#     df['EmptySpan']=df.apply(lambda x: [], axis=1)\n",
        "\n",
        "#     for i in tag_list:\n",
        "#         df['EntitySpans']=df.apply(lambda row: extend_list(row['EmptySpan'],row[i]),axis=1)\n",
        "#         df['EntitySpans']=df[['EntitySpans','Address']].apply(lambda x: (x[1], x[0]),axis=1)\n",
        "#     return df['EntitySpans']\n",
        "\n",
        "# def get_doc_bin(training_data,nlp):\n",
        "#     '''Create DocBin object for building training/test corpus'''\n",
        "#     # the DocBin will store the example documents\n",
        "#     db = DocBin()\n",
        "#     for text, annotations in training_data:\n",
        "#         doc = nlp(text) #Construct a Doc object\n",
        "#         ents = []\n",
        "#         for start, end, label in annotations:\n",
        "#             span = doc.char_span(start, end, label=label)\n",
        "#             ents.append(span)\n",
        "#         doc.ents = ents\n",
        "#         db.add(doc)\n",
        "#     return db\n",
        "\n",
        "# #Load blank English model. This is needed for initializing a Document object for our training/test set.\n",
        "# nlp = spacy.blank(\"en\")\n",
        "\n",
        "# #Define custom entity tag list\n",
        "# tag_list=[\"BuildingTag\",\"BuildingNoTag\",\"RecipientTag\",\"StreetNameTag\",\"ZipCodeTag\",\"CityTag\",\"StateTag\",\"CountryTag\"]\n",
        "\n",
        "# ###### Training dataset prep ###########\n",
        "# # Read the training dataset into pandas\n",
        "# df_train=pd.read_csv(filepath_or_buffer=\"./corpus/dataset/us-train-dataset.csv\",sep=\",\",dtype=str)\n",
        "\n",
        "# # Get entity spans\n",
        "# df_entity_spans= create_entity_spans(df_train.astype(str),tag_list)\n",
        "# training_data= df_entity_spans.values.tolist()\n",
        "\n",
        "# # Get & Persist DocBin to disk\n",
        "# doc_bin_train= get_doc_bin(training_data,nlp)\n",
        "# doc_bin_train.to_disk(\"./corpus/spacy-docbins/train.spacy\")\n",
        "# ######################################\n",
        "\n",
        "\n",
        "# ###### Validation dataset prep ###########\n",
        "# # Read the validation dataset into pandas\n",
        "# df_test=pd.read_csv(filepath_or_buffer=\"./corpus/dataset/us-test-dataset.csv\",sep=\",\",dtype=str)\n",
        "\n",
        "# # Get entity spans\n",
        "# df_entity_spans= create_entity_spans(df_test.astype(str),tag_list)\n",
        "# validation_data= df_entity_spans.values.tolist()\n",
        "\n",
        "# # Get & Persist DocBin to disk\n",
        "# doc_bin_test= get_doc_bin(validation_data,nlp)\n",
        "# doc_bin_test.to_disk(\"./corpus/spacy-docbins/test.spacy\")\n",
        "# ##########################################"
      ],
      "metadata": {
        "id": "bEztuL70SgGL"
      },
      "execution_count": null,
      "outputs": []
    },
    {
      "cell_type": "code",
      "source": [
        "#sentence[:][:]"
      ],
      "metadata": {
        "id": "yrvaidIkfXaQ"
      },
      "execution_count": null,
      "outputs": []
    },
    {
      "cell_type": "code",
      "source": [
        "import spacy\n",
        "from spacy.tokens import DocBin\n",
        "import pandas as pd\n",
        "import re\n",
        "pd.set_option('display.max_colwidth', None)"
      ],
      "metadata": {
        "id": "qQVwQq92dpOw"
      },
      "execution_count": null,
      "outputs": []
    },
    {
      "cell_type": "code",
      "source": [
        "def massage_data(sentence):\n",
        "  '''Pre process address string to remove new line characters, add comma punctuations etc.'''\n",
        "  cleansed_sentence1=re.sub(r'(,)(?!\\s)',', ',sentence)\n",
        "  cleansed_sentence2=re.sub(r'(\\\\n)',', ',cleansed_sentence1)\n",
        "  cleansed_sentence3=re.sub(r'(?!\\s)(-)(?!\\s)',' - ',cleansed_sentence2)\n",
        "  cleansed_sentence=re.sub(r'\\.','',cleansed_sentence3)\n",
        "  return(cleansed_sentence)"
      ],
      "metadata": {
        "id": "mmFei7IJeKrk"
      },
      "execution_count": null,
      "outputs": []
    },
    {
      "cell_type": "code",
      "source": [
        "# list2 = []\n",
        "\n",
        "# for i in output_list:\n",
        "#     x = massage_data(i)\n",
        "#     list2.append(x)\n",
        "# #print(list1)\n",
        "# list2[9]"
      ],
      "metadata": {
        "id": "4Ag3rNTMgwbU"
      },
      "execution_count": null,
      "outputs": []
    },
    {
      "cell_type": "code",
      "source": [
        "# from flair.data import Sentence\n",
        "# from flair.models import SequenceTagger\n",
        "\n",
        "# # make a sentence\n",
        "# sentence2 = []\n",
        "# for i in list2:\n",
        "#     x = Sentence(i)\n",
        "#     sentence2.append(x)\n",
        "\n",
        "\n",
        "\n",
        "# # load the NER tagger\n",
        "# tagger = SequenceTagger.load('ner')\n",
        "\n",
        "# # run NER over sentence\n",
        "# tagger.predict(sentence2)"
      ],
      "metadata": {
        "id": "rSeHizzrhSf5"
      },
      "execution_count": null,
      "outputs": []
    },
    {
      "cell_type": "code",
      "source": [
        "#list1"
      ],
      "metadata": {
        "id": "uSp6W_b9jnWY"
      },
      "execution_count": null,
      "outputs": []
    },
    {
      "cell_type": "code",
      "source": [
        "# sentence[0][:]"
      ],
      "metadata": {
        "id": "n_UJ725tiAY-"
      },
      "execution_count": null,
      "outputs": []
    },
    {
      "cell_type": "code",
      "source": [
        "list2 = []\n",
        "\n",
        "for i in list1:\n",
        "    x = massage_data(i)\n",
        "    list2.append(x)\n",
        "#print(list1)\n",
        "list2[9]"
      ],
      "metadata": {
        "colab": {
          "base_uri": "https://localhost:8080/",
          "height": 105
        },
        "id": "UyLRz814idF0",
        "outputId": "c48face1-9ac8-41d2-b47f-d0d309f63888"
      },
      "execution_count": null,
      "outputs": [
        {
          "output_type": "execute_result",
          "data": {
            "application/vnd.google.colaboratory.intrinsic+json": {
              "type": "string"
            },
            "text/plain": [
              "' en description CANADA POST POSTES CANADA TM Expedited Parcel Colis acc 303 251l 303 251r 303 251s TO A Tel Tel 800 832 7569 CYNTHIA INNES CYNTHIA INNES 116 GEORGE STREET APT 1506 TORONTO ON M5A 3S2 M5A 3S2 TRACKING NUMBER 7036 7330 5514 9304 N 302 260 DE REP 303 211RAGE Sender warrants that this item does not contain non mailable matter L exp 303 251diteur garantit que cet envoi ne contient pas d objet inadmissible ereuses FROM DE INDIGO BOOKS MUSIC CDF BLDG 50 100 ALFRED KUEHNE BLVD BRAMPTON ON L6T 4K4 1 00 KG VE EV MANIFEST REQ MANIFESTE REQ P F 7036733 A C VIN NIF 019 SPEC 3696 V2 0 Reference No 657182164 '"
            ]
          },
          "metadata": {},
          "execution_count": 125
        }
      ]
    },
    {
      "cell_type": "code",
      "source": [
        "#list2"
      ],
      "metadata": {
        "id": "qym4mWyGmT6S"
      },
      "execution_count": null,
      "outputs": []
    },
    {
      "cell_type": "code",
      "source": [
        "new_list = [massage_data(i) for i in list2]\n",
        "new_list[0]"
      ],
      "metadata": {
        "colab": {
          "base_uri": "https://localhost:8080/",
          "height": 53
        },
        "id": "4K-bMS0seco6",
        "outputId": "cccfd664-e111-43a5-bb07-4b3bd731e677"
      },
      "execution_count": null,
      "outputs": [
        {
          "output_type": "execute_result",
          "data": {
            "application/vnd.google.colaboratory.intrinsic+json": {
              "type": "string"
            },
            "text/plain": [
              "' en description YYZ1 1 1 Lbs 01 23 DT03 Leslie Walsh 626 112 George Street M5A 2M5 Toronto Ontarlo Canada TBC360938832009 DT03 CYCLE 1 YYZ9 T03 MWSrgRSF5 MW5 9RSF5 A 20 3 INO '"
            ]
          },
          "metadata": {},
          "execution_count": 127
        }
      ]
    },
    {
      "cell_type": "code",
      "source": [
        "import pandas as pd"
      ],
      "metadata": {
        "id": "NwLx_YAblgPD"
      },
      "execution_count": null,
      "outputs": []
    },
    {
      "cell_type": "code",
      "source": [
        "df = pd.DataFrame(list2[0:-1])"
      ],
      "metadata": {
        "id": "IuL1hlCwmu6L"
      },
      "execution_count": null,
      "outputs": []
    },
    {
      "cell_type": "code",
      "source": [
        "df_train = pd.DataFrame(list2[0:50])\n",
        "df_test = pd.DataFrame(list2[50:])\n"
      ],
      "metadata": {
        "id": "vUDfk09srGiD"
      },
      "execution_count": null,
      "outputs": []
    },
    {
      "cell_type": "code",
      "source": [
        "df_train[0] = df_train[0].astype(str)\n",
        "print(df_train.dtypes)\n",
        "df_test[0] = df_test[0].astype(str)\n",
        "print(df_test.dtypes)"
      ],
      "metadata": {
        "colab": {
          "base_uri": "https://localhost:8080/"
        },
        "id": "eAAa3nGBsizw",
        "outputId": "6804fc3f-64ff-4d07-8e69-ca9aea4d365d"
      },
      "execution_count": null,
      "outputs": [
        {
          "output_type": "stream",
          "name": "stdout",
          "text": [
            "0    object\n",
            "dtype: object\n",
            "0    object\n",
            "dtype: object\n"
          ]
        }
      ]
    },
    {
      "cell_type": "code",
      "source": [
        "df.rename(columns={0: 'Address'}, inplace=True)"
      ],
      "metadata": {
        "id": "FyKdRXFgr6yt"
      },
      "execution_count": null,
      "outputs": []
    },
    {
      "cell_type": "code",
      "source": [
        "df_train.rename(columns={0: 'Address'}, inplace=True)\n",
        "df_test.rename(columns={0: 'Address'}, inplace=True)"
      ],
      "metadata": {
        "id": "iPUZt7v8trut"
      },
      "execution_count": null,
      "outputs": []
    },
    {
      "cell_type": "code",
      "source": [
        "df_train.head()"
      ],
      "metadata": {
        "colab": {
          "base_uri": "https://localhost:8080/",
          "height": 354
        },
        "id": "xbEA_Z-cm3I4",
        "outputId": "8ad8fc1f-1bed-4428-c06e-554bd82b7861"
      },
      "execution_count": null,
      "outputs": [
        {
          "output_type": "execute_result",
          "data": {
            "text/html": [
              "\n",
              "  <div id=\"df-e8e82d2a-5aad-44cb-8381-21eb260054fa\">\n",
              "    <div class=\"colab-df-container\">\n",
              "      <div>\n",
              "<style scoped>\n",
              "    .dataframe tbody tr th:only-of-type {\n",
              "        vertical-align: middle;\n",
              "    }\n",
              "\n",
              "    .dataframe tbody tr th {\n",
              "        vertical-align: top;\n",
              "    }\n",
              "\n",
              "    .dataframe thead th {\n",
              "        text-align: right;\n",
              "    }\n",
              "</style>\n",
              "<table border=\"1\" class=\"dataframe\">\n",
              "  <thead>\n",
              "    <tr style=\"text-align: right;\">\n",
              "      <th></th>\n",
              "      <th>Address</th>\n",
              "    </tr>\n",
              "  </thead>\n",
              "  <tbody>\n",
              "    <tr>\n",
              "      <th>0</th>\n",
              "      <td>en description YYZ1 1 1 Lbs 01 23 DT03 Leslie Walsh 626 112 George Street M5A 2M5 Toronto Ontarlo Canada TBC360938832009 DT03 CYCLE 1 YYZ9 T03 MWSrgRSF5 MW5 9RSF5 A 20 3 INO</td>\n",
              "    </tr>\n",
              "    <tr>\n",
              "      <th>1</th>\n",
              "      <td>en description CANADA POSTES POST 12 Expedited Parcel TM Colis acc 303 251l 303 251r 303 251g CANADA TO Tel TI BRITTANY DHAMALIE 112 GEORGE ST S628 TORONTO ON M5A 2M5 18555576844 320 2345 320 220 2 320 2345 20 3 x 13 3 x880 CU KG VE EU d object inadmissible S1 REQ</td>\n",
              "    </tr>\n",
              "    <tr>\n",
              "      <th>2</th>\n",
              "      <td>en description YYZ1 0 4 Lbs 01 23 DT03 Daniel Trigiani 1208 112 George Street pri M5A 2M5 Toronto Ontario Canada TBC361089405009 DT03 CYCLE 1 cit 303 251 sans MARR ee YYZ7 O TO3 YHM5 C ART M7apBWS85 1 801 M7DPBWS85 1 801</td>\n",
              "    </tr>\n",
              "    <tr>\n",
              "      <th>3</th>\n",
              "      <td>en description 1 23 22 5 57 PM Production Sheet G70 TORFS1 GC Toronto WOW 1 Order ID 25399741 Wow Totes 1 1 Alexandra Name Sukhareva Address 112 George Street App S617 Toronto Ontario M5A2M5 Phone 647 991 2926 320 242 321 203 321 200 320 265 App Apt 2022 01 23 Created at 17 40 29 Special Instructions Delivery Day Sunday Delivery Date 2022 01 23 Route TBD Sequence 00 25399741</td>\n",
              "    </tr>\n",
              "    <tr>\n",
              "      <th>4</th>\n",
              "      <td>en description YYZ1 1 0 Lbs 01 23 DT03 Don Ho mes 112 George Street Suite 1 06 M5A 2N5 Toronto Ontario Canada TBC360972961009 DT03 CYCLE 1 YYZ4 O T03 YHM5 C ART spNi1v Mvf9C4SS5 1 3022 Mivi9C4SS5</td>\n",
              "    </tr>\n",
              "  </tbody>\n",
              "</table>\n",
              "</div>\n",
              "      <button class=\"colab-df-convert\" onclick=\"convertToInteractive('df-e8e82d2a-5aad-44cb-8381-21eb260054fa')\"\n",
              "              title=\"Convert this dataframe to an interactive table.\"\n",
              "              style=\"display:none;\">\n",
              "        \n",
              "  <svg xmlns=\"http://www.w3.org/2000/svg\" height=\"24px\"viewBox=\"0 0 24 24\"\n",
              "       width=\"24px\">\n",
              "    <path d=\"M0 0h24v24H0V0z\" fill=\"none\"/>\n",
              "    <path d=\"M18.56 5.44l.94 2.06.94-2.06 2.06-.94-2.06-.94-.94-2.06-.94 2.06-2.06.94zm-11 1L8.5 8.5l.94-2.06 2.06-.94-2.06-.94L8.5 2.5l-.94 2.06-2.06.94zm10 10l.94 2.06.94-2.06 2.06-.94-2.06-.94-.94-2.06-.94 2.06-2.06.94z\"/><path d=\"M17.41 7.96l-1.37-1.37c-.4-.4-.92-.59-1.43-.59-.52 0-1.04.2-1.43.59L10.3 9.45l-7.72 7.72c-.78.78-.78 2.05 0 2.83L4 21.41c.39.39.9.59 1.41.59.51 0 1.02-.2 1.41-.59l7.78-7.78 2.81-2.81c.8-.78.8-2.07 0-2.86zM5.41 20L4 18.59l7.72-7.72 1.47 1.35L5.41 20z\"/>\n",
              "  </svg>\n",
              "      </button>\n",
              "      \n",
              "  <style>\n",
              "    .colab-df-container {\n",
              "      display:flex;\n",
              "      flex-wrap:wrap;\n",
              "      gap: 12px;\n",
              "    }\n",
              "\n",
              "    .colab-df-convert {\n",
              "      background-color: #E8F0FE;\n",
              "      border: none;\n",
              "      border-radius: 50%;\n",
              "      cursor: pointer;\n",
              "      display: none;\n",
              "      fill: #1967D2;\n",
              "      height: 32px;\n",
              "      padding: 0 0 0 0;\n",
              "      width: 32px;\n",
              "    }\n",
              "\n",
              "    .colab-df-convert:hover {\n",
              "      background-color: #E2EBFA;\n",
              "      box-shadow: 0px 1px 2px rgba(60, 64, 67, 0.3), 0px 1px 3px 1px rgba(60, 64, 67, 0.15);\n",
              "      fill: #174EA6;\n",
              "    }\n",
              "\n",
              "    [theme=dark] .colab-df-convert {\n",
              "      background-color: #3B4455;\n",
              "      fill: #D2E3FC;\n",
              "    }\n",
              "\n",
              "    [theme=dark] .colab-df-convert:hover {\n",
              "      background-color: #434B5C;\n",
              "      box-shadow: 0px 1px 3px 1px rgba(0, 0, 0, 0.15);\n",
              "      filter: drop-shadow(0px 1px 2px rgba(0, 0, 0, 0.3));\n",
              "      fill: #FFFFFF;\n",
              "    }\n",
              "  </style>\n",
              "\n",
              "      <script>\n",
              "        const buttonEl =\n",
              "          document.querySelector('#df-e8e82d2a-5aad-44cb-8381-21eb260054fa button.colab-df-convert');\n",
              "        buttonEl.style.display =\n",
              "          google.colab.kernel.accessAllowed ? 'block' : 'none';\n",
              "\n",
              "        async function convertToInteractive(key) {\n",
              "          const element = document.querySelector('#df-e8e82d2a-5aad-44cb-8381-21eb260054fa');\n",
              "          const dataTable =\n",
              "            await google.colab.kernel.invokeFunction('convertToInteractive',\n",
              "                                                     [key], {});\n",
              "          if (!dataTable) return;\n",
              "\n",
              "          const docLinkHtml = 'Like what you see? Visit the ' +\n",
              "            '<a target=\"_blank\" href=https://colab.research.google.com/notebooks/data_table.ipynb>data table notebook</a>'\n",
              "            + ' to learn more about interactive tables.';\n",
              "          element.innerHTML = '';\n",
              "          dataTable['output_type'] = 'display_data';\n",
              "          await google.colab.output.renderOutput(dataTable, element);\n",
              "          const docLink = document.createElement('div');\n",
              "          docLink.innerHTML = docLinkHtml;\n",
              "          element.appendChild(docLink);\n",
              "        }\n",
              "      </script>\n",
              "    </div>\n",
              "  </div>\n",
              "  "
            ],
            "text/plain": [
              "                                                                                                                                                                                                                                                                                                                                                                                       Address\n",
              "0                                                                                                                                                                                                               en description YYZ1 1 1 Lbs 01 23 DT03 Leslie Walsh 626 112 George Street M5A 2M5 Toronto Ontarlo Canada TBC360938832009 DT03 CYCLE 1 YYZ9 T03 MWSrgRSF5 MW5 9RSF5 A 20 3 INO \n",
              "1                                                                                                                    en description CANADA POSTES POST 12 Expedited Parcel TM Colis acc 303 251l 303 251r 303 251g CANADA TO Tel TI BRITTANY DHAMALIE 112 GEORGE ST S628 TORONTO ON M5A 2M5 18555576844 320 2345 320 220 2 320 2345 20 3 x 13 3 x880 CU KG VE EU d object inadmissible S1 REQ \n",
              "2                                                                                                                                                                en description YYZ1 0 4 Lbs 01 23 DT03 Daniel Trigiani 1208 112 George Street pri M5A 2M5 Toronto Ontario Canada TBC361089405009 DT03 CYCLE 1 cit 303 251 sans MARR ee YYZ7 O TO3 YHM5 C ART M7apBWS85 1 801 M7DPBWS85 1 801 \n",
              "3   en description 1 23 22 5 57 PM Production Sheet G70 TORFS1 GC Toronto WOW 1 Order ID 25399741 Wow Totes 1 1 Alexandra Name Sukhareva Address 112 George Street App S617 Toronto Ontario M5A2M5 Phone 647 991 2926 320 242 321 203 321 200 320 265 App Apt 2022 01 23 Created at 17 40 29 Special Instructions Delivery Day Sunday Delivery Date 2022 01 23 Route TBD Sequence 00 25399741 \n",
              "4                                                                                                                                                                                         en description YYZ1 1 0 Lbs 01 23 DT03 Don Ho mes 112 George Street Suite 1 06 M5A 2N5 Toronto Ontario Canada TBC360972961009 DT03 CYCLE 1 YYZ4 O T03 YHM5 C ART spNi1v Mvf9C4SS5 1 3022 Mivi9C4SS5 "
            ]
          },
          "metadata": {},
          "execution_count": 175
        }
      ]
    },
    {
      "cell_type": "code",
      "source": [
        "!python -m spacy download en_core_web_sm"
      ],
      "metadata": {
        "colab": {
          "base_uri": "https://localhost:8080/"
        },
        "id": "xJh26v304FEJ",
        "outputId": "337fb627-b970-4132-c838-6362f6e3c445"
      },
      "execution_count": null,
      "outputs": [
        {
          "output_type": "stream",
          "name": "stdout",
          "text": [
            "Collecting en_core_web_sm==2.2.5\n",
            "  Downloading https://github.com/explosion/spacy-models/releases/download/en_core_web_sm-2.2.5/en_core_web_sm-2.2.5.tar.gz (12.0 MB)\n",
            "\u001b[K     |████████████████████████████████| 12.0 MB 7.2 MB/s \n",
            "\u001b[?25hRequirement already satisfied: spacy>=2.2.2 in /usr/local/lib/python3.7/dist-packages (from en_core_web_sm==2.2.5) (2.2.4)\n",
            "Requirement already satisfied: preshed<3.1.0,>=3.0.2 in /usr/local/lib/python3.7/dist-packages (from spacy>=2.2.2->en_core_web_sm==2.2.5) (3.0.6)\n",
            "Requirement already satisfied: tqdm<5.0.0,>=4.38.0 in /usr/local/lib/python3.7/dist-packages (from spacy>=2.2.2->en_core_web_sm==2.2.5) (4.62.3)\n",
            "Requirement already satisfied: numpy>=1.15.0 in /usr/local/lib/python3.7/dist-packages (from spacy>=2.2.2->en_core_web_sm==2.2.5) (1.19.5)\n",
            "Requirement already satisfied: thinc==7.4.0 in /usr/local/lib/python3.7/dist-packages (from spacy>=2.2.2->en_core_web_sm==2.2.5) (7.4.0)\n",
            "Requirement already satisfied: requests<3.0.0,>=2.13.0 in /usr/local/lib/python3.7/dist-packages (from spacy>=2.2.2->en_core_web_sm==2.2.5) (2.27.1)\n",
            "Requirement already satisfied: cymem<2.1.0,>=2.0.2 in /usr/local/lib/python3.7/dist-packages (from spacy>=2.2.2->en_core_web_sm==2.2.5) (2.0.6)\n",
            "Requirement already satisfied: murmurhash<1.1.0,>=0.28.0 in /usr/local/lib/python3.7/dist-packages (from spacy>=2.2.2->en_core_web_sm==2.2.5) (1.0.6)\n",
            "Requirement already satisfied: wasabi<1.1.0,>=0.4.0 in /usr/local/lib/python3.7/dist-packages (from spacy>=2.2.2->en_core_web_sm==2.2.5) (0.9.0)\n",
            "Requirement already satisfied: catalogue<1.1.0,>=0.0.7 in /usr/local/lib/python3.7/dist-packages (from spacy>=2.2.2->en_core_web_sm==2.2.5) (1.0.0)\n",
            "Requirement already satisfied: srsly<1.1.0,>=1.0.2 in /usr/local/lib/python3.7/dist-packages (from spacy>=2.2.2->en_core_web_sm==2.2.5) (1.0.5)\n",
            "Requirement already satisfied: blis<0.5.0,>=0.4.0 in /usr/local/lib/python3.7/dist-packages (from spacy>=2.2.2->en_core_web_sm==2.2.5) (0.4.1)\n",
            "Requirement already satisfied: setuptools in /usr/local/lib/python3.7/dist-packages (from spacy>=2.2.2->en_core_web_sm==2.2.5) (57.4.0)\n",
            "Requirement already satisfied: plac<1.2.0,>=0.9.6 in /usr/local/lib/python3.7/dist-packages (from spacy>=2.2.2->en_core_web_sm==2.2.5) (1.1.3)\n",
            "Requirement already satisfied: importlib-metadata>=0.20 in /usr/local/lib/python3.7/dist-packages (from catalogue<1.1.0,>=0.0.7->spacy>=2.2.2->en_core_web_sm==2.2.5) (3.10.1)\n",
            "Requirement already satisfied: zipp>=0.5 in /usr/local/lib/python3.7/dist-packages (from importlib-metadata>=0.20->catalogue<1.1.0,>=0.0.7->spacy>=2.2.2->en_core_web_sm==2.2.5) (3.7.0)\n",
            "Requirement already satisfied: typing-extensions>=3.6.4 in /usr/local/lib/python3.7/dist-packages (from importlib-metadata>=0.20->catalogue<1.1.0,>=0.0.7->spacy>=2.2.2->en_core_web_sm==2.2.5) (3.10.0.2)\n",
            "Requirement already satisfied: idna<4,>=2.5 in /usr/local/lib/python3.7/dist-packages (from requests<3.0.0,>=2.13.0->spacy>=2.2.2->en_core_web_sm==2.2.5) (2.10)\n",
            "Requirement already satisfied: charset-normalizer~=2.0.0 in /usr/local/lib/python3.7/dist-packages (from requests<3.0.0,>=2.13.0->spacy>=2.2.2->en_core_web_sm==2.2.5) (2.0.11)\n",
            "Requirement already satisfied: urllib3<1.27,>=1.21.1 in /usr/local/lib/python3.7/dist-packages (from requests<3.0.0,>=2.13.0->spacy>=2.2.2->en_core_web_sm==2.2.5) (1.24.3)\n",
            "Requirement already satisfied: certifi>=2017.4.17 in /usr/local/lib/python3.7/dist-packages (from requests<3.0.0,>=2.13.0->spacy>=2.2.2->en_core_web_sm==2.2.5) (2021.10.8)\n",
            "\u001b[38;5;2m✔ Download and installation successful\u001b[0m\n",
            "You can now load the model via spacy.load('en_core_web_sm')\n"
          ]
        }
      ]
    },
    {
      "cell_type": "code",
      "source": [
        "import spacy\n",
        "from spacy import displacy \n",
        "nlp = spacy.load('en_core_web_sm')\n",
        "# Text with nlp\n",
        "doc = nlp(list2[3])\n",
        "# Display Entities\n",
        "displacy.render(doc, style=\"ent\")"
      ],
      "metadata": {
        "colab": {
          "base_uri": "https://localhost:8080/",
          "height": 990
        },
        "id": "mTXZGSZw3__y",
        "outputId": "2906ae06-169a-4da8-fb76-0cc8ed847266"
      },
      "execution_count": null,
      "outputs": [
        {
          "output_type": "execute_result",
          "data": {
            "application/vnd.google.colaboratory.intrinsic+json": {
              "type": "string"
            },
            "text/plain": [
              "'<div class=\"entities\" style=\"line-height: 2.5; direction: ltr\"> en description \\n<mark class=\"entity\" style=\"background: #e4e7d2; padding: 0.45em 0.6em; margin: 0 0.25em; line-height: 1; border-radius: 0.35em;\">\\n    1\\n    <span style=\"font-size: 0.8em; font-weight: bold; line-height: 1; border-radius: 0.35em; text-transform: uppercase; vertical-align: middle; margin-left: 0.5rem\">CARDINAL</span>\\n</mark>\\n 23 22 \\n<mark class=\"entity\" style=\"background: #bfe1d9; padding: 0.45em 0.6em; margin: 0 0.25em; line-height: 1; border-radius: 0.35em;\">\\n    5 57 PM\\n    <span style=\"font-size: 0.8em; font-weight: bold; line-height: 1; border-radius: 0.35em; text-transform: uppercase; vertical-align: middle; margin-left: 0.5rem\">TIME</span>\\n</mark>\\n \\n<mark class=\"entity\" style=\"background: #ffeb80; padding: 0.45em 0.6em; margin: 0 0.25em; line-height: 1; border-radius: 0.35em;\">\\n    Production Sheet G70\\n    <span style=\"font-size: 0.8em; font-weight: bold; line-height: 1; border-radius: 0.35em; text-transform: uppercase; vertical-align: middle; margin-left: 0.5rem\">EVENT</span>\\n</mark>\\n TORFS1 \\n<mark class=\"entity\" style=\"background: #7aecec; padding: 0.45em 0.6em; margin: 0 0.25em; line-height: 1; border-radius: 0.35em;\">\\n    GC Toronto\\n    <span style=\"font-size: 0.8em; font-weight: bold; line-height: 1; border-radius: 0.35em; text-transform: uppercase; vertical-align: middle; margin-left: 0.5rem\">ORG</span>\\n</mark>\\n WOW \\n<mark class=\"entity\" style=\"background: #e4e7d2; padding: 0.45em 0.6em; margin: 0 0.25em; line-height: 1; border-radius: 0.35em;\">\\n    1\\n    <span style=\"font-size: 0.8em; font-weight: bold; line-height: 1; border-radius: 0.35em; text-transform: uppercase; vertical-align: middle; margin-left: 0.5rem\">CARDINAL</span>\\n</mark>\\n Order ID \\n<mark class=\"entity\" style=\"background: #bfe1d9; padding: 0.45em 0.6em; margin: 0 0.25em; line-height: 1; border-radius: 0.35em;\">\\n    25399741\\n    <span style=\"font-size: 0.8em; font-weight: bold; line-height: 1; border-radius: 0.35em; text-transform: uppercase; vertical-align: middle; margin-left: 0.5rem\">DATE</span>\\n</mark>\\n Wow Totes \\n<mark class=\"entity\" style=\"background: #e4e7d2; padding: 0.45em 0.6em; margin: 0 0.25em; line-height: 1; border-radius: 0.35em;\">\\n    1\\n    <span style=\"font-size: 0.8em; font-weight: bold; line-height: 1; border-radius: 0.35em; text-transform: uppercase; vertical-align: middle; margin-left: 0.5rem\">CARDINAL</span>\\n</mark>\\n 1 Alexandra Name Sukhareva Address \\n<mark class=\"entity\" style=\"background: #e4e7d2; padding: 0.45em 0.6em; margin: 0 0.25em; line-height: 1; border-radius: 0.35em;\">\\n    112\\n    <span style=\"font-size: 0.8em; font-weight: bold; line-height: 1; border-radius: 0.35em; text-transform: uppercase; vertical-align: middle; margin-left: 0.5rem\">CARDINAL</span>\\n</mark>\\n George Street App S617 Toronto \\n<mark class=\"entity\" style=\"background: #feca74; padding: 0.45em 0.6em; margin: 0 0.25em; line-height: 1; border-radius: 0.35em;\">\\n    Ontario M5A2M5\\n    <span style=\"font-size: 0.8em; font-weight: bold; line-height: 1; border-radius: 0.35em; text-transform: uppercase; vertical-align: middle; margin-left: 0.5rem\">GPE</span>\\n</mark>\\n Phone \\n<mark class=\"entity\" style=\"background: #e4e7d2; padding: 0.45em 0.6em; margin: 0 0.25em; line-height: 1; border-radius: 0.35em;\">\\n    647\\n    <span style=\"font-size: 0.8em; font-weight: bold; line-height: 1; border-radius: 0.35em; text-transform: uppercase; vertical-align: middle; margin-left: 0.5rem\">CARDINAL</span>\\n</mark>\\n \\n<mark class=\"entity\" style=\"background: #e4e7d2; padding: 0.45em 0.6em; margin: 0 0.25em; line-height: 1; border-radius: 0.35em;\">\\n    991\\n    <span style=\"font-size: 0.8em; font-weight: bold; line-height: 1; border-radius: 0.35em; text-transform: uppercase; vertical-align: middle; margin-left: 0.5rem\">CARDINAL</span>\\n</mark>\\n 2926 \\n<mark class=\"entity\" style=\"background: #e4e7d2; padding: 0.45em 0.6em; margin: 0 0.25em; line-height: 1; border-radius: 0.35em;\">\\n    320\\n    <span style=\"font-size: 0.8em; font-weight: bold; line-height: 1; border-radius: 0.35em; text-transform: uppercase; vertical-align: middle; margin-left: 0.5rem\">CARDINAL</span>\\n</mark>\\n \\n<mark class=\"entity\" style=\"background: #bfeeb7; padding: 0.45em 0.6em; margin: 0 0.25em; line-height: 1; border-radius: 0.35em;\">\\n    242\\n    <span style=\"font-size: 0.8em; font-weight: bold; line-height: 1; border-radius: 0.35em; text-transform: uppercase; vertical-align: middle; margin-left: 0.5rem\">PRODUCT</span>\\n</mark>\\n \\n<mark class=\"entity\" style=\"background: #e4e7d2; padding: 0.45em 0.6em; margin: 0 0.25em; line-height: 1; border-radius: 0.35em;\">\\n    321\\n    <span style=\"font-size: 0.8em; font-weight: bold; line-height: 1; border-radius: 0.35em; text-transform: uppercase; vertical-align: middle; margin-left: 0.5rem\">CARDINAL</span>\\n</mark>\\n \\n<mark class=\"entity\" style=\"background: #e4e7d2; padding: 0.45em 0.6em; margin: 0 0.25em; line-height: 1; border-radius: 0.35em;\">\\n    203\\n    <span style=\"font-size: 0.8em; font-weight: bold; line-height: 1; border-radius: 0.35em; text-transform: uppercase; vertical-align: middle; margin-left: 0.5rem\">CARDINAL</span>\\n</mark>\\n \\n<mark class=\"entity\" style=\"background: #e4e7d2; padding: 0.45em 0.6em; margin: 0 0.25em; line-height: 1; border-radius: 0.35em;\">\\n    321\\n    <span style=\"font-size: 0.8em; font-weight: bold; line-height: 1; border-radius: 0.35em; text-transform: uppercase; vertical-align: middle; margin-left: 0.5rem\">CARDINAL</span>\\n</mark>\\n \\n<mark class=\"entity\" style=\"background: #e4e7d2; padding: 0.45em 0.6em; margin: 0 0.25em; line-height: 1; border-radius: 0.35em;\">\\n    200\\n    <span style=\"font-size: 0.8em; font-weight: bold; line-height: 1; border-radius: 0.35em; text-transform: uppercase; vertical-align: middle; margin-left: 0.5rem\">CARDINAL</span>\\n</mark>\\n \\n<mark class=\"entity\" style=\"background: #e4e7d2; padding: 0.45em 0.6em; margin: 0 0.25em; line-height: 1; border-radius: 0.35em;\">\\n    320\\n    <span style=\"font-size: 0.8em; font-weight: bold; line-height: 1; border-radius: 0.35em; text-transform: uppercase; vertical-align: middle; margin-left: 0.5rem\">CARDINAL</span>\\n</mark>\\n \\n<mark class=\"entity\" style=\"background: #e4e7d2; padding: 0.45em 0.6em; margin: 0 0.25em; line-height: 1; border-radius: 0.35em;\">\\n    265\\n    <span style=\"font-size: 0.8em; font-weight: bold; line-height: 1; border-radius: 0.35em; text-transform: uppercase; vertical-align: middle; margin-left: 0.5rem\">CARDINAL</span>\\n</mark>\\n App Apt 2022 \\n<mark class=\"entity\" style=\"background: #bfe1d9; padding: 0.45em 0.6em; margin: 0 0.25em; line-height: 1; border-radius: 0.35em;\">\\n    01 23\\n    <span style=\"font-size: 0.8em; font-weight: bold; line-height: 1; border-radius: 0.35em; text-transform: uppercase; vertical-align: middle; margin-left: 0.5rem\">DATE</span>\\n</mark>\\n Created at \\n<mark class=\"entity\" style=\"background: #e4e7d2; padding: 0.45em 0.6em; margin: 0 0.25em; line-height: 1; border-radius: 0.35em;\">\\n    17 40 29\\n    <span style=\"font-size: 0.8em; font-weight: bold; line-height: 1; border-radius: 0.35em; text-transform: uppercase; vertical-align: middle; margin-left: 0.5rem\">CARDINAL</span>\\n</mark>\\n Special Instructions Delivery Day \\n<mark class=\"entity\" style=\"background: #bfe1d9; padding: 0.45em 0.6em; margin: 0 0.25em; line-height: 1; border-radius: 0.35em;\">\\n    Sunday\\n    <span style=\"font-size: 0.8em; font-weight: bold; line-height: 1; border-radius: 0.35em; text-transform: uppercase; vertical-align: middle; margin-left: 0.5rem\">DATE</span>\\n</mark>\\n Delivery Date 2022 01 23 \\n<mark class=\"entity\" style=\"background: #ddd; padding: 0.45em 0.6em; margin: 0 0.25em; line-height: 1; border-radius: 0.35em;\">\\n    Route TBD\\n    <span style=\"font-size: 0.8em; font-weight: bold; line-height: 1; border-radius: 0.35em; text-transform: uppercase; vertical-align: middle; margin-left: 0.5rem\">FAC</span>\\n</mark>\\n Sequence \\n<mark class=\"entity\" style=\"background: #bfe1d9; padding: 0.45em 0.6em; margin: 0 0.25em; line-height: 1; border-radius: 0.35em;\">\\n    00 25399741\\n    <span style=\"font-size: 0.8em; font-weight: bold; line-height: 1; border-radius: 0.35em; text-transform: uppercase; vertical-align: middle; margin-left: 0.5rem\">DATE</span>\\n</mark>\\n </div>'"
            ]
          },
          "metadata": {},
          "execution_count": 218
        }
      ]
    },
    {
      "cell_type": "code",
      "source": [
        "import spacy\n",
        "from spacy.tokens import DocBin\n",
        "import pandas as pd\n",
        "import re\n",
        "pd.set_option('display.max_colwidth', None)\n",
        "\n",
        "def massage_data(address):\n",
        "    '''Pre process address string to remove new line characters, add comma punctuations etc.'''\n",
        "    cleansed_address1=re.sub(r'(,)(?!\\s)',', ',address)\n",
        "    cleansed_address2=re.sub(r'(\\\\n)',', ',cleansed_address1)\n",
        "    cleansed_address3=re.sub(r'(?!\\s)(-)(?!\\s)',' - ',cleansed_address2)\n",
        "    cleansed_address=re.sub(r'\\.','',cleansed_address3)\n",
        "    return cleansed_address\n",
        "\n",
        "def get_address_span(address=None,address_component=None,label=None):\n",
        "    '''Search for specified address component and get the span.\n",
        "    Eg: get_address_span(address=\"221 B, Baker Street, London\",address_component=\"221\",label=\"BUILDING_NO\") would return (0,2,\"BUILDING_NO\")'''\n",
        "\n",
        "    if pd.isna(address_component) or str(address_component)=='nan':\n",
        "        pass\n",
        "    else:\n",
        "        address_component1=re.sub('\\.','',address_component)\n",
        "        address_component2=re.sub(r'(?!\\s)(-)(?!\\s)',' - ',address_component1)\n",
        "        span=re.search('\\\\b(?:'+address_component2+')\\\\b',address)\n",
        "        #print(span)\n",
        "        return (span.start(),span.end(),label)\n",
        "\n",
        "def extend_list(entity_list,entity):\n",
        "    if pd.isna(entity):\n",
        "        return entity_list\n",
        "    else:\n",
        "        entity_list.append(entity)\n",
        "        return entity_list"
      ],
      "metadata": {
        "id": "lZXcyunjxQlD"
      },
      "execution_count": null,
      "outputs": []
    },
    {
      "cell_type": "code",
      "source": [
        "from transformers import AutoModelForTokenClassification,AutoTokenizer\n",
        "import torch\n",
        "\n",
        "\n",
        "model = AutoModelForTokenClassification.from_pretrained(\"dbmdz/bert-large-cased-finetuned-conll03-english\")\n",
        "tokenizer = AutoTokenizer.from_pretrained(\"bert-base-cased\")"
      ],
      "metadata": {
        "id": "z_LO5icq2WBU"
      },
      "execution_count": null,
      "outputs": []
    },
    {
      "cell_type": "code",
      "source": [
        "label_list = [\n",
        "    \"O\",       # Outside of a named entity\n",
        "    \"B-MISC\",  # Beginning of a miscellaneous entity right after another miscellaneous entity\n",
        "    \"I-MISC\",  # Miscellaneous entity\n",
        "    \"B-PER\",   # Beginning of a person's name right after another person's name\n",
        "    \"I-PER\",   # Person's name\n",
        "    \"B-ORG\",   # Beginning of an organisation right after another organisation\n",
        "    \"I-ORG\",   # Organisation\n",
        "    \"B-LOC\",   # Beginning of a location right after another location\n",
        "    \"I-LOC\"    # Location\n",
        "]\n",
        "\n",
        "sequence = list2[0]\n",
        "\n",
        "# Bit of a hack to get the tokens with the special tokens\n",
        "tokens = tokenizer.tokenize(tokenizer.decode(tokenizer.encode(sequence)))\n",
        "inputs = tokenizer.encode(sequence, return_tensors=\"pt\")\n",
        "\n",
        "outputs = model(inputs)[0]\n",
        "predictions = torch.argmax(outputs, dim=2)\n",
        "\n",
        "print([(token, label_list[prediction]) for token, prediction in zip(tokens, predictions[0].tolist())])"
      ],
      "metadata": {
        "colab": {
          "base_uri": "https://localhost:8080/"
        },
        "id": "IXnCmR3C3BR2",
        "outputId": "4b6a890f-322e-4c77-d42f-b2c1b4b1d616"
      },
      "execution_count": null,
      "outputs": [
        {
          "output_type": "stream",
          "name": "stdout",
          "text": [
            "[('[CLS]', 'O'), ('en', 'O'), ('description', 'O'), ('Y', 'O'), ('##Y', 'O'), ('##Z', 'O'), ('##1', 'O'), ('1', 'O'), ('1', 'O'), ('L', 'O'), ('##bs', 'O'), ('01', 'O'), ('23', 'O'), ('D', 'O'), ('##T', 'O'), ('##0', 'O'), ('##3', 'O'), ('Leslie', 'I-ORG'), ('Walsh', 'I-ORG'), ('62', 'O'), ('##6', 'O'), ('112', 'O'), ('George', 'I-LOC'), ('Street', 'I-LOC'), ('M', 'O'), ('##5', 'O'), ('##A', 'O'), ('2', 'O'), ('##M', 'O'), ('##5', 'O'), ('Toronto', 'I-ORG'), ('On', 'I-ORG'), ('##tar', 'I-ORG'), ('##lo', 'I-ORG'), ('Canada', 'I-ORG'), ('T', 'I-ORG'), ('##BC', 'I-ORG'), ('##36', 'O'), ('##0', 'O'), ('##9', 'O'), ('##38', 'O'), ('##8', 'O'), ('##32', 'O'), ('##00', 'O'), ('##9', 'O'), ('D', 'O'), ('##T', 'O'), ('##0', 'O'), ('##3', 'O'), ('C', 'O'), ('##Y', 'O'), ('##CL', 'O'), ('##E', 'O'), ('1', 'O'), ('Y', 'O'), ('##Y', 'O'), ('##Z', 'O'), ('##9', 'O'), ('T', 'O'), ('##0', 'O'), ('##3', 'O'), ('MW', 'O'), ('##S', 'O'), ('##rg', 'O'), ('##RS', 'O'), ('##F', 'O'), ('##5', 'O'), ('MW', 'O'), ('##5', 'O'), ('9', 'O'), ('##RS', 'O'), ('##F', 'O'), ('##5', 'O'), ('A', 'O'), ('20', 'O'), ('3', 'O'), ('IN', 'O'), ('##O', 'O'), ('[SEP]', 'O')]\n"
          ]
        }
      ]
    },
    {
      "cell_type": "code",
      "source": [
        "tokens = tokenizer.tokenize(tokenizer.decode(tokenizer.encode(sequence)))\n",
        "inputs = tokenizer.encode(sequence, return_tensors=\"pt\")\n",
        "\n",
        "outputs = model(inputs)[0]\n",
        "predictions = torch.argmax(outputs, dim=2)\n",
        "\n",
        "# print([(token, label_list[prediction]) for token, prediction in zip(tokens, predictions[0].tolist())])\n",
        "List_Of_Full_Names = []\n",
        "List_of_names = []\n",
        "Last_index = -1\n",
        "for i in range(0, predictions.shape[1]):\n",
        "  if predictions[0,i] == 3 or predictions[0,i] == 4:\n",
        "      List_of_names.append(tokens[i])\n",
        "  else:\n",
        "    if List_of_names !=[]:\n",
        "      List_Of_Full_Names.append(List_of_names)\n",
        "    Last_index = -1\n",
        "    List_of_names = []\n",
        "Final_Names = []\n",
        "strname = ''\n",
        "replaced_name = ''\n",
        "for i in range(0, len(List_Of_Full_Names)):\n",
        "  if List_Of_Full_Names[i] !=[]:\n",
        "    for ii in List_Of_Full_Names[i]:\n",
        "      if '#' in ii:\n",
        "        replaced_name = re.sub('#','',ii)\n",
        "      else:\n",
        "        replaced_name = ii\n",
        "      for chars in replaced_name:\n",
        "        if chars.isupper():\n",
        "          strname+=\" \"\n",
        "      strname+=replaced_name\n",
        "print(strname)"
      ],
      "metadata": {
        "colab": {
          "base_uri": "https://localhost:8080/"
        },
        "id": "Ch3r3GJS1ebZ",
        "outputId": "28dd2468-8f4b-43a8-bd22-bc30330c5b3f"
      },
      "execution_count": null,
      "outputs": [
        {
          "output_type": "stream",
          "name": "stdout",
          "text": [
            "\n"
          ]
        }
      ]
    },
    {
      "cell_type": "code",
      "source": [
        "List_Of_Full_Names\n"
      ],
      "metadata": {
        "colab": {
          "base_uri": "https://localhost:8080/"
        },
        "id": "k4GmTUTy2Bgk",
        "outputId": "89921c5a-6332-4417-a870-4dc2f7c3d0a4"
      },
      "execution_count": null,
      "outputs": [
        {
          "output_type": "execute_result",
          "data": {
            "text/plain": [
              "[]"
            ]
          },
          "metadata": {},
          "execution_count": 221
        }
      ]
    },
    {
      "cell_type": "code",
      "source": [
        "def create_entity_spans(df,tag_list):\n",
        "    '''Create entity spans for training/test datasets'''\n",
        "    df['Address']=df['Address'].apply(lambda x: massage_data(x))\n",
        "    df[\"BuildingTag\"]=df.apply(lambda row:get_address_span(address=row['Address']),axis=1)\n",
        "    df[\"BuildingNoTag\"]=df.apply(lambda row:get_address_span(address=row['Address']),axis=1)\n",
        "    df[\"RecipientTag\"]=df.apply(lambda row:get_address_span(address=row['Address']),axis=1)\n",
        "    df[\"StreetNameTag\"]=df.apply(lambda row:get_address_span(address=row['Address']),axis=1)\n",
        "    df[\"ZipCodeTag\"]=df.apply(lambda row:get_address_span(address=row['Address']),axis=1)\n",
        "    df[\"CityTag\"]=df.apply(lambda row:get_address_span(address=row['Address']),axis=1)\n",
        "    df[\"CountryTag\"]=df.apply(lambda row:get_address_span(address=row['Address']),axis=1)\n",
        "    df[\"StateTag\"]=df.apply(lambda row:get_address_span(address=row['Address']),axis=1)\n",
        "    df['EmptySpan']=df.apply(lambda x: [], axis=1)\n",
        "\n",
        "    for i in tag_list:\n",
        "        df['EntitySpans']=df.apply(lambda row: extend_list(row['EmptySpan'],row[i]),axis=1)\n",
        "        df['EntitySpans']=df[['EntitySpans','Address']].apply(lambda x: (x[1], x[0]),axis=1)\n",
        "    return df['EntitySpans']"
      ],
      "metadata": {
        "id": "CtwyH6V1xVy2"
      },
      "execution_count": null,
      "outputs": []
    },
    {
      "cell_type": "code",
      "source": [
        "def get_doc_bin(training_data,nlp):\n",
        "    '''Create DocBin object for building training/test corpus'''\n",
        "    # the DocBin will store the example documents\n",
        "    db = DocBin()\n",
        "    for text, annotations in training_data:\n",
        "        doc = nlp(text) #Construct a Doc object\n",
        "        ents = []\n",
        "        for start, end, label in annotations:\n",
        "            span = doc.char_span(start, end, label=label)\n",
        "            ents.append(span)\n",
        "        doc.ents = ents\n",
        "        db.add(doc)\n",
        "    return db"
      ],
      "metadata": {
        "id": "z3oFof7Axc3X"
      },
      "execution_count": null,
      "outputs": []
    },
    {
      "cell_type": "code",
      "source": [
        "#Load blank English model. This is needed for initializing a Document object for our training/test set.\n",
        "nlp = spacy.blank(\"en\")\n",
        "\n",
        "#Define custom entity tag list\n",
        "tag_list=[\"BuildingTag\",\"BuildingNoTag\",\"RecipientTag\",\"StreetNameTag\",\"ZipCodeTag\",\"CityTag\",\"StateTag\",\"CountryTag\"]\n",
        "\n",
        "###### Training dataset prep ###########\n",
        "# Read the training dataset into pandas\n",
        "df_train\n",
        "\n",
        "# Get entity spans\n",
        "df_entity_spans= create_entity_spans(df_train.astype(str),tag_list)\n",
        "training_data= df_entity_spans.values.tolist()"
      ],
      "metadata": {
        "id": "94diP8ojxgGx"
      },
      "execution_count": null,
      "outputs": []
    },
    {
      "cell_type": "code",
      "source": [
        "!pip install spacy==3.0.6"
      ],
      "metadata": {
        "colab": {
          "base_uri": "https://localhost:8080/",
          "height": 1000
        },
        "id": "JEDhAcoa6ojr",
        "outputId": "9a7ed14f-0af9-4393-ea87-55bfa758765d"
      },
      "execution_count": null,
      "outputs": [
        {
          "output_type": "stream",
          "name": "stdout",
          "text": [
            "Collecting spacy==3.0.6\n",
            "  Downloading spacy-3.0.6-cp37-cp37m-manylinux2014_x86_64.whl (12.8 MB)\n",
            "\u001b[K     |████████████████████████████████| 12.8 MB 7.4 MB/s \n",
            "\u001b[?25hCollecting pathy>=0.3.5\n",
            "  Downloading pathy-0.6.1-py3-none-any.whl (42 kB)\n",
            "\u001b[K     |████████████████████████████████| 42 kB 1.4 MB/s \n",
            "\u001b[?25hRequirement already satisfied: setuptools in /usr/local/lib/python3.7/dist-packages (from spacy==3.0.6) (57.4.0)\n",
            "Requirement already satisfied: wasabi<1.1.0,>=0.8.1 in /usr/local/lib/python3.7/dist-packages (from spacy==3.0.6) (0.9.0)\n",
            "Collecting pydantic<1.8.0,>=1.7.1\n",
            "  Downloading pydantic-1.7.4-cp37-cp37m-manylinux2014_x86_64.whl (9.1 MB)\n",
            "\u001b[K     |████████████████████████████████| 9.1 MB 29.0 MB/s \n",
            "\u001b[?25hCollecting thinc<8.1.0,>=8.0.3\n",
            "  Downloading thinc-8.0.13-cp37-cp37m-manylinux_2_17_x86_64.manylinux2014_x86_64.whl (628 kB)\n",
            "\u001b[K     |████████████████████████████████| 628 kB 55.7 MB/s \n",
            "\u001b[?25hRequirement already satisfied: numpy>=1.15.0 in /usr/local/lib/python3.7/dist-packages (from spacy==3.0.6) (1.19.5)\n",
            "Requirement already satisfied: tqdm<5.0.0,>=4.38.0 in /usr/local/lib/python3.7/dist-packages (from spacy==3.0.6) (4.62.3)\n",
            "Requirement already satisfied: jinja2 in /usr/local/lib/python3.7/dist-packages (from spacy==3.0.6) (2.11.3)\n",
            "Collecting catalogue<2.1.0,>=2.0.3\n",
            "  Downloading catalogue-2.0.6-py3-none-any.whl (17 kB)\n",
            "Collecting typer<0.4.0,>=0.3.0\n",
            "  Downloading typer-0.3.2-py3-none-any.whl (21 kB)\n",
            "Collecting spacy-legacy<3.1.0,>=3.0.4\n",
            "  Downloading spacy_legacy-3.0.8-py2.py3-none-any.whl (14 kB)\n",
            "Requirement already satisfied: requests<3.0.0,>=2.13.0 in /usr/local/lib/python3.7/dist-packages (from spacy==3.0.6) (2.27.1)\n",
            "Requirement already satisfied: typing-extensions<4.0.0.0,>=3.7.4 in /usr/local/lib/python3.7/dist-packages (from spacy==3.0.6) (3.10.0.2)\n",
            "Requirement already satisfied: blis<0.8.0,>=0.4.0 in /usr/local/lib/python3.7/dist-packages (from spacy==3.0.6) (0.4.1)\n",
            "Requirement already satisfied: preshed<3.1.0,>=3.0.2 in /usr/local/lib/python3.7/dist-packages (from spacy==3.0.6) (3.0.6)\n",
            "Collecting srsly<3.0.0,>=2.4.1\n",
            "  Downloading srsly-2.4.2-cp37-cp37m-manylinux_2_17_x86_64.manylinux2014_x86_64.whl (451 kB)\n",
            "\u001b[K     |████████████████████████████████| 451 kB 46.1 MB/s \n",
            "\u001b[?25hRequirement already satisfied: murmurhash<1.1.0,>=0.28.0 in /usr/local/lib/python3.7/dist-packages (from spacy==3.0.6) (1.0.6)\n",
            "Requirement already satisfied: packaging>=20.0 in /usr/local/lib/python3.7/dist-packages (from spacy==3.0.6) (21.3)\n",
            "Requirement already satisfied: cymem<2.1.0,>=2.0.2 in /usr/local/lib/python3.7/dist-packages (from spacy==3.0.6) (2.0.6)\n",
            "Requirement already satisfied: zipp>=0.5 in /usr/local/lib/python3.7/dist-packages (from catalogue<2.1.0,>=2.0.3->spacy==3.0.6) (3.7.0)\n",
            "Requirement already satisfied: pyparsing!=3.0.5,>=2.0.2 in /usr/local/lib/python3.7/dist-packages (from packaging>=20.0->spacy==3.0.6) (3.0.7)\n",
            "Requirement already satisfied: smart-open<6.0.0,>=5.0.0 in /usr/local/lib/python3.7/dist-packages (from pathy>=0.3.5->spacy==3.0.6) (5.2.1)\n",
            "Requirement already satisfied: urllib3<1.27,>=1.21.1 in /usr/local/lib/python3.7/dist-packages (from requests<3.0.0,>=2.13.0->spacy==3.0.6) (1.24.3)\n",
            "Requirement already satisfied: idna<4,>=2.5 in /usr/local/lib/python3.7/dist-packages (from requests<3.0.0,>=2.13.0->spacy==3.0.6) (2.10)\n",
            "Requirement already satisfied: charset-normalizer~=2.0.0 in /usr/local/lib/python3.7/dist-packages (from requests<3.0.0,>=2.13.0->spacy==3.0.6) (2.0.11)\n",
            "Requirement already satisfied: certifi>=2017.4.17 in /usr/local/lib/python3.7/dist-packages (from requests<3.0.0,>=2.13.0->spacy==3.0.6) (2021.10.8)\n",
            "Requirement already satisfied: click<7.2.0,>=7.1.1 in /usr/local/lib/python3.7/dist-packages (from typer<0.4.0,>=0.3.0->spacy==3.0.6) (7.1.2)\n",
            "Requirement already satisfied: MarkupSafe>=0.23 in /usr/local/lib/python3.7/dist-packages (from jinja2->spacy==3.0.6) (2.0.1)\n",
            "Installing collected packages: catalogue, typer, srsly, pydantic, thinc, spacy-legacy, pathy, spacy\n",
            "  Attempting uninstall: catalogue\n",
            "    Found existing installation: catalogue 1.0.0\n",
            "    Uninstalling catalogue-1.0.0:\n",
            "      Successfully uninstalled catalogue-1.0.0\n",
            "  Attempting uninstall: srsly\n",
            "    Found existing installation: srsly 1.0.5\n",
            "    Uninstalling srsly-1.0.5:\n",
            "      Successfully uninstalled srsly-1.0.5\n",
            "  Attempting uninstall: thinc\n",
            "    Found existing installation: thinc 7.4.0\n",
            "    Uninstalling thinc-7.4.0:\n",
            "      Successfully uninstalled thinc-7.4.0\n",
            "  Attempting uninstall: spacy\n",
            "    Found existing installation: spacy 2.2.4\n",
            "    Uninstalling spacy-2.2.4:\n",
            "      Successfully uninstalled spacy-2.2.4\n",
            "Successfully installed catalogue-2.0.6 pathy-0.6.1 pydantic-1.7.4 spacy-3.0.6 spacy-legacy-3.0.8 srsly-2.4.2 thinc-8.0.13 typer-0.3.2\n"
          ]
        },
        {
          "output_type": "display_data",
          "data": {
            "application/vnd.colab-display-data+json": {
              "pip_warning": {
                "packages": [
                  "catalogue",
                  "spacy",
                  "srsly",
                  "thinc"
                ]
              }
            }
          },
          "metadata": {}
        }
      ]
    },
    {
      "cell_type": "code",
      "source": [
        "# Get & Persist DocBin to disk\n",
        "doc_bin_train= get_doc_bin(training_data,nlp)\n",
        "doc_bin_train.to_disk(\"./corpus/spacy-docbins/train.spacy\")\n",
        "######################################\n",
        "\n",
        "\n",
        "###### Validation dataset prep ###########\n",
        "# Read the validation dataset into pandas\n",
        "df_test\n",
        "\n",
        "# Get entity spans\n",
        "df_entity_spans= create_entity_spans(df_test.astype(str),tag_list)\n",
        "validation_data= df_entity_spans.values.tolist()\n",
        "\n",
        "# Get & Persist DocBin to disk\n",
        "doc_bin_test= get_doc_bin(validation_data,nlp)\n",
        "doc_bin_test.to_disk(\"./corpus/spacy-docbins/test.spacy\")\n",
        "##########################################"
      ],
      "metadata": {
        "colab": {
          "base_uri": "https://localhost:8080/",
          "height": 235
        },
        "id": "KT1N2s0dqhug",
        "outputId": "32a2f72a-dbab-4981-dd84-c51ecf8acc25"
      },
      "execution_count": null,
      "outputs": [
        {
          "output_type": "error",
          "ename": "NameError",
          "evalue": "ignored",
          "traceback": [
            "\u001b[0;31m---------------------------------------------------------------------------\u001b[0m",
            "\u001b[0;31mNameError\u001b[0m                                 Traceback (most recent call last)",
            "\u001b[0;32m<ipython-input-1-a2870755f5f1>\u001b[0m in \u001b[0;36m<module>\u001b[0;34m()\u001b[0m\n\u001b[1;32m      1\u001b[0m \u001b[0;31m# Get & Persist DocBin to disk\u001b[0m\u001b[0;34m\u001b[0m\u001b[0;34m\u001b[0m\u001b[0;34m\u001b[0m\u001b[0m\n\u001b[0;32m----> 2\u001b[0;31m \u001b[0mdoc_bin_train\u001b[0m\u001b[0;34m=\u001b[0m \u001b[0mget_doc_bin\u001b[0m\u001b[0;34m(\u001b[0m\u001b[0mtraining_data\u001b[0m\u001b[0;34m,\u001b[0m\u001b[0mnlp\u001b[0m\u001b[0;34m)\u001b[0m\u001b[0;34m\u001b[0m\u001b[0;34m\u001b[0m\u001b[0m\n\u001b[0m\u001b[1;32m      3\u001b[0m \u001b[0mdoc_bin_train\u001b[0m\u001b[0;34m.\u001b[0m\u001b[0mto_disk\u001b[0m\u001b[0;34m(\u001b[0m\u001b[0;34m\"./corpus/spacy-docbins/train.spacy\"\u001b[0m\u001b[0;34m)\u001b[0m\u001b[0;34m\u001b[0m\u001b[0;34m\u001b[0m\u001b[0m\n\u001b[1;32m      4\u001b[0m \u001b[0;31m######################################\u001b[0m\u001b[0;34m\u001b[0m\u001b[0;34m\u001b[0m\u001b[0;34m\u001b[0m\u001b[0m\n\u001b[1;32m      5\u001b[0m \u001b[0;34m\u001b[0m\u001b[0m\n",
            "\u001b[0;31mNameError\u001b[0m: name 'get_doc_bin' is not defined"
          ]
        }
      ]
    },
    {
      "cell_type": "code",
      "source": [
        "import spacy\n",
        "\n",
        "nlp=spacy.load(\"output\\models\\model-best\")\n",
        "\n",
        "address_list=[\"130 W BOSE ST STE 100, PARK RIDGE, IL, 60068, USA\",\n",
        "              \"8311 MCDONALD RD, HOUSTON, TX, 77053-4821, USA\",\n",
        "              \"PO Box 317, 4100 Hwy 20 E Ste 403, NICEVILLE, FL, 32578-5037, USA\",\n",
        "              \"C/O Elon Musk Innovations Inc, 1548 E Florida Avenue, Suite 209, TAMPA, FL, 33613, USA\",\n",
        "              \"Seven Edgeway Plaza, C/O Mac Dermott Inc, OAKBROOK TERRACE, IL, 60181, USA\"]\n",
        "\n",
        "# Checking predictions for the NER model\n",
        "for address in address_list:\n",
        "    doc=nlp(address)\n",
        "    ent_list=[(ent.text, ent.label_) for ent in doc.ents]\n",
        "    print(\"Address string -> \"+address)\n",
        "    print(\"Parsed address -> \"+str(ent_list))\n",
        "    print(\"******\")\n",
        "\n",
        "\n",
        "\n",
        "address=\"C/o John Doe LLC, 111 8th Avenue Ste 1301, Tulsa, Oklahoma, 74136–1922, USA\"\n",
        "doc=nlp(address)\n",
        "ent_list=[(ent.text, ent.label_) for ent in doc.ents]\n",
        "print(\"Address string -> \"+address)\n",
        "print(\"Parsed address -> \"+str(ent_list))\n",
        "\n",
        "# Loading Entity Ruler coupled NER model and checking prediction\n",
        "nlp=spacy.load(\"output\\models_er\\model-best\")\n",
        "\n",
        "doc=nlp(address)\n",
        "ent_list=[(ent.text, ent.label_) for ent in doc.ents]\n",
        "print(\"Address string -> \"+address)\n",
        "print(\"Parsed address -> \"+str(ent_list))"
      ],
      "metadata": {
        "id": "jkUfZQeqKqLc",
        "colab": {
          "base_uri": "https://localhost:8080/",
          "height": 398
        },
        "outputId": "0c8723cf-8fd0-4e01-d6a4-4401bd05da78"
      },
      "execution_count": null,
      "outputs": [
        {
          "output_type": "error",
          "ename": "OSError",
          "evalue": "ignored",
          "traceback": [
            "\u001b[0;31m---------------------------------------------------------------------------\u001b[0m",
            "\u001b[0;31mOSError\u001b[0m                                   Traceback (most recent call last)",
            "\u001b[0;32m<ipython-input-22-a55b0f3fa0bc>\u001b[0m in \u001b[0;36m<module>\u001b[0;34m()\u001b[0m\n\u001b[1;32m      1\u001b[0m \u001b[0;32mimport\u001b[0m \u001b[0mspacy\u001b[0m\u001b[0;34m\u001b[0m\u001b[0;34m\u001b[0m\u001b[0m\n\u001b[1;32m      2\u001b[0m \u001b[0;34m\u001b[0m\u001b[0m\n\u001b[0;32m----> 3\u001b[0;31m \u001b[0mnlp\u001b[0m\u001b[0;34m=\u001b[0m\u001b[0mspacy\u001b[0m\u001b[0;34m.\u001b[0m\u001b[0mload\u001b[0m\u001b[0;34m(\u001b[0m\u001b[0;34m\"output\\models\\model-best\"\u001b[0m\u001b[0;34m)\u001b[0m\u001b[0;34m\u001b[0m\u001b[0;34m\u001b[0m\u001b[0m\n\u001b[0m\u001b[1;32m      4\u001b[0m \u001b[0;34m\u001b[0m\u001b[0m\n\u001b[1;32m      5\u001b[0m address_list=[\"130 W BOSE ST STE 100, PARK RIDGE, IL, 60068, USA\",\n",
            "\u001b[0;32m/usr/local/lib/python3.7/dist-packages/spacy/__init__.py\u001b[0m in \u001b[0;36mload\u001b[0;34m(name, **overrides)\u001b[0m\n\u001b[1;32m     28\u001b[0m     \u001b[0;32mif\u001b[0m \u001b[0mdepr_path\u001b[0m \u001b[0;32mnot\u001b[0m \u001b[0;32min\u001b[0m \u001b[0;34m(\u001b[0m\u001b[0;32mTrue\u001b[0m\u001b[0;34m,\u001b[0m \u001b[0;32mFalse\u001b[0m\u001b[0;34m,\u001b[0m \u001b[0;32mNone\u001b[0m\u001b[0;34m)\u001b[0m\u001b[0;34m:\u001b[0m\u001b[0;34m\u001b[0m\u001b[0;34m\u001b[0m\u001b[0m\n\u001b[1;32m     29\u001b[0m         \u001b[0mdeprecation_warning\u001b[0m\u001b[0;34m(\u001b[0m\u001b[0mWarnings\u001b[0m\u001b[0;34m.\u001b[0m\u001b[0mW001\u001b[0m\u001b[0;34m.\u001b[0m\u001b[0mformat\u001b[0m\u001b[0;34m(\u001b[0m\u001b[0mpath\u001b[0m\u001b[0;34m=\u001b[0m\u001b[0mdepr_path\u001b[0m\u001b[0;34m)\u001b[0m\u001b[0;34m)\u001b[0m\u001b[0;34m\u001b[0m\u001b[0;34m\u001b[0m\u001b[0m\n\u001b[0;32m---> 30\u001b[0;31m     \u001b[0;32mreturn\u001b[0m \u001b[0mutil\u001b[0m\u001b[0;34m.\u001b[0m\u001b[0mload_model\u001b[0m\u001b[0;34m(\u001b[0m\u001b[0mname\u001b[0m\u001b[0;34m,\u001b[0m \u001b[0;34m**\u001b[0m\u001b[0moverrides\u001b[0m\u001b[0;34m)\u001b[0m\u001b[0;34m\u001b[0m\u001b[0;34m\u001b[0m\u001b[0m\n\u001b[0m\u001b[1;32m     31\u001b[0m \u001b[0;34m\u001b[0m\u001b[0m\n\u001b[1;32m     32\u001b[0m \u001b[0;34m\u001b[0m\u001b[0m\n",
            "\u001b[0;32m/usr/local/lib/python3.7/dist-packages/spacy/util.py\u001b[0m in \u001b[0;36mload_model\u001b[0;34m(name, **overrides)\u001b[0m\n\u001b[1;32m    167\u001b[0m     \u001b[0;32melif\u001b[0m \u001b[0mhasattr\u001b[0m\u001b[0;34m(\u001b[0m\u001b[0mname\u001b[0m\u001b[0;34m,\u001b[0m \u001b[0;34m\"exists\"\u001b[0m\u001b[0;34m)\u001b[0m\u001b[0;34m:\u001b[0m  \u001b[0;31m# Path or Path-like to model data\u001b[0m\u001b[0;34m\u001b[0m\u001b[0;34m\u001b[0m\u001b[0m\n\u001b[1;32m    168\u001b[0m         \u001b[0;32mreturn\u001b[0m \u001b[0mload_model_from_path\u001b[0m\u001b[0;34m(\u001b[0m\u001b[0mname\u001b[0m\u001b[0;34m,\u001b[0m \u001b[0;34m**\u001b[0m\u001b[0moverrides\u001b[0m\u001b[0;34m)\u001b[0m\u001b[0;34m\u001b[0m\u001b[0;34m\u001b[0m\u001b[0m\n\u001b[0;32m--> 169\u001b[0;31m     \u001b[0;32mraise\u001b[0m \u001b[0mIOError\u001b[0m\u001b[0;34m(\u001b[0m\u001b[0mErrors\u001b[0m\u001b[0;34m.\u001b[0m\u001b[0mE050\u001b[0m\u001b[0;34m.\u001b[0m\u001b[0mformat\u001b[0m\u001b[0;34m(\u001b[0m\u001b[0mname\u001b[0m\u001b[0;34m=\u001b[0m\u001b[0mname\u001b[0m\u001b[0;34m)\u001b[0m\u001b[0;34m)\u001b[0m\u001b[0;34m\u001b[0m\u001b[0;34m\u001b[0m\u001b[0m\n\u001b[0m\u001b[1;32m    170\u001b[0m \u001b[0;34m\u001b[0m\u001b[0m\n\u001b[1;32m    171\u001b[0m \u001b[0;34m\u001b[0m\u001b[0m\n",
            "\u001b[0;31mOSError\u001b[0m: [E050] Can't find model 'output\\models\\model-best'. It doesn't seem to be a shortcut link, a Python package or a valid path to a data directory."
          ]
        }
      ]
    },
    {
      "cell_type": "code",
      "source": [
        ""
      ],
      "metadata": {
        "id": "Tv9gr8P6RyZs"
      },
      "execution_count": null,
      "outputs": []
    }
  ],
  "metadata": {
    "instance_type": "ml.t3.medium",
    "kernelspec": {
      "display_name": "Python 3",
      "language": "python",
      "name": "python3"
    },
    "colab": {
      "name": "Package buddy cleaned.ipynb",
      "provenance": [],
      "collapsed_sections": [],
      "include_colab_link": true
    }
  },
  "nbformat": 4,
  "nbformat_minor": 0
}